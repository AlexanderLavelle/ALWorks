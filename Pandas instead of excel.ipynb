{
 "cells": [
  {
   "cell_type": "code",
   "execution_count": 60,
   "metadata": {},
   "outputs": [],
   "source": [
    "import pandas as pd\n",
    "import numpy as np\n",
    "import datetime"
   ]
  },
  {
   "cell_type": "markdown",
   "metadata": {},
   "source": [
    "Read the sheet, get some summary data, check format"
   ]
  },
  {
   "cell_type": "code",
   "execution_count": null,
   "metadata": {},
   "outputs": [],
   "source": [
    "excel_sheet = pd.read_csv(r\"C:\\Users\\Alexander\\Desktop\\Springboard\\Lab2.csv\")\n",
    "excel_sheet.head()"
   ]
  },
  {
   "cell_type": "code",
   "execution_count": 34,
   "metadata": {
    "scrolled": true
   },
   "outputs": [
    {
     "data": {
      "text/html": [
       "<div>\n",
       "<style scoped>\n",
       "    .dataframe tbody tr th:only-of-type {\n",
       "        vertical-align: middle;\n",
       "    }\n",
       "\n",
       "    .dataframe tbody tr th {\n",
       "        vertical-align: top;\n",
       "    }\n",
       "\n",
       "    .dataframe thead th {\n",
       "        text-align: right;\n",
       "    }\n",
       "</style>\n",
       "<table border=\"1\" class=\"dataframe\">\n",
       "  <thead>\n",
       "    <tr style=\"text-align: right;\">\n",
       "      <th></th>\n",
       "      <th>Year</th>\n",
       "      <th>Customer ID</th>\n",
       "      <th>Customer Age</th>\n",
       "      <th>Order Quantity</th>\n",
       "      <th>Unit Cost</th>\n",
       "      <th>Unit Price</th>\n",
       "      <th>Cost</th>\n",
       "      <th>Revenue</th>\n",
       "    </tr>\n",
       "  </thead>\n",
       "  <tbody>\n",
       "    <tr>\n",
       "      <th>count</th>\n",
       "      <td>113036.000000</td>\n",
       "      <td>113036.000000</td>\n",
       "      <td>113036.000000</td>\n",
       "      <td>113036.000000</td>\n",
       "      <td>113036.000000</td>\n",
       "      <td>113036.000000</td>\n",
       "      <td>113036.000000</td>\n",
       "      <td>113036.000000</td>\n",
       "    </tr>\n",
       "    <tr>\n",
       "      <th>mean</th>\n",
       "      <td>2014.401739</td>\n",
       "      <td>19227.874341</td>\n",
       "      <td>35.919212</td>\n",
       "      <td>11.901660</td>\n",
       "      <td>267.296366</td>\n",
       "      <td>452.938427</td>\n",
       "      <td>469.318695</td>\n",
       "      <td>754.370360</td>\n",
       "    </tr>\n",
       "    <tr>\n",
       "      <th>std</th>\n",
       "      <td>1.272510</td>\n",
       "      <td>5307.581302</td>\n",
       "      <td>11.021936</td>\n",
       "      <td>9.561857</td>\n",
       "      <td>549.835483</td>\n",
       "      <td>922.071219</td>\n",
       "      <td>884.866118</td>\n",
       "      <td>1309.094674</td>\n",
       "    </tr>\n",
       "    <tr>\n",
       "      <th>min</th>\n",
       "      <td>2011.000000</td>\n",
       "      <td>11000.000000</td>\n",
       "      <td>17.000000</td>\n",
       "      <td>1.000000</td>\n",
       "      <td>1.000000</td>\n",
       "      <td>2.000000</td>\n",
       "      <td>1.000000</td>\n",
       "      <td>2.000000</td>\n",
       "    </tr>\n",
       "    <tr>\n",
       "      <th>25%</th>\n",
       "      <td>2013.000000</td>\n",
       "      <td>14611.000000</td>\n",
       "      <td>28.000000</td>\n",
       "      <td>2.000000</td>\n",
       "      <td>2.000000</td>\n",
       "      <td>5.000000</td>\n",
       "      <td>28.000000</td>\n",
       "      <td>63.000000</td>\n",
       "    </tr>\n",
       "    <tr>\n",
       "      <th>50%</th>\n",
       "      <td>2014.000000</td>\n",
       "      <td>18664.000000</td>\n",
       "      <td>35.000000</td>\n",
       "      <td>10.000000</td>\n",
       "      <td>9.000000</td>\n",
       "      <td>24.000000</td>\n",
       "      <td>108.000000</td>\n",
       "      <td>223.000000</td>\n",
       "    </tr>\n",
       "    <tr>\n",
       "      <th>75%</th>\n",
       "      <td>2016.000000</td>\n",
       "      <td>23475.000000</td>\n",
       "      <td>43.000000</td>\n",
       "      <td>20.000000</td>\n",
       "      <td>42.000000</td>\n",
       "      <td>70.000000</td>\n",
       "      <td>432.000000</td>\n",
       "      <td>800.000000</td>\n",
       "    </tr>\n",
       "    <tr>\n",
       "      <th>max</th>\n",
       "      <td>2016.000000</td>\n",
       "      <td>29483.000000</td>\n",
       "      <td>87.000000</td>\n",
       "      <td>32.000000</td>\n",
       "      <td>2171.000000</td>\n",
       "      <td>3578.000000</td>\n",
       "      <td>42978.000000</td>\n",
       "      <td>58074.000000</td>\n",
       "    </tr>\n",
       "  </tbody>\n",
       "</table>\n",
       "</div>"
      ],
      "text/plain": [
       "                Year    Customer ID   Customer Age  Order Quantity  \\\n",
       "count  113036.000000  113036.000000  113036.000000   113036.000000   \n",
       "mean     2014.401739   19227.874341      35.919212       11.901660   \n",
       "std         1.272510    5307.581302      11.021936        9.561857   \n",
       "min      2011.000000   11000.000000      17.000000        1.000000   \n",
       "25%      2013.000000   14611.000000      28.000000        2.000000   \n",
       "50%      2014.000000   18664.000000      35.000000       10.000000   \n",
       "75%      2016.000000   23475.000000      43.000000       20.000000   \n",
       "max      2016.000000   29483.000000      87.000000       32.000000   \n",
       "\n",
       "           Unit Cost     Unit Price           Cost        Revenue  \n",
       "count  113036.000000  113036.000000  113036.000000  113036.000000  \n",
       "mean      267.296366     452.938427     469.318695     754.370360  \n",
       "std       549.835483     922.071219     884.866118    1309.094674  \n",
       "min         1.000000       2.000000       1.000000       2.000000  \n",
       "25%         2.000000       5.000000      28.000000      63.000000  \n",
       "50%         9.000000      24.000000     108.000000     223.000000  \n",
       "75%        42.000000      70.000000     432.000000     800.000000  \n",
       "max      2171.000000    3578.000000   42978.000000   58074.000000  "
      ]
     },
     "execution_count": 34,
     "metadata": {},
     "output_type": "execute_result"
    }
   ],
   "source": [
    "excel_sheet.describe()"
   ]
  },
  {
   "cell_type": "markdown",
   "metadata": {},
   "source": [
    "Check boolean and spacing"
   ]
  },
  {
   "cell_type": "code",
   "execution_count": 48,
   "metadata": {},
   "outputs": [
    {
     "data": {
      "text/plain": [
       "0         False\n",
       "1         False\n",
       "2         False\n",
       "3         False\n",
       "4         False\n",
       "          ...  \n",
       "113031    False\n",
       "113032    False\n",
       "113033    False\n",
       "113034    False\n",
       "113035    False\n",
       "Name: Country, Length: 113036, dtype: bool"
      ]
     },
     "execution_count": 48,
     "metadata": {},
     "output_type": "execute_result"
    }
   ],
   "source": [
    "excel_sheet.Country == \"United States\""
   ]
  },
  {
   "cell_type": "markdown",
   "metadata": {},
   "source": [
    "Q1: What is the total revenue for all the sales in the United States ?\n",
    "\n",
    "Method: Group by Country, spit out revenues. Luckily this one doesn't have too many countries. "
   ]
  },
  {
   "cell_type": "code",
   "execution_count": 66,
   "metadata": {},
   "outputs": [
    {
     "data": {
      "text/plain": [
       "Country\n",
       "Australia         21302059\n",
       "Canada             7935738\n",
       "France             8432872\n",
       "Germany            8978596\n",
       "United Kingdom    10646196\n",
       "United States     27975547\n",
       "Name: Revenue, dtype: int64"
      ]
     },
     "execution_count": 66,
     "metadata": {},
     "output_type": "execute_result"
    }
   ],
   "source": [
    "excel_sheet.groupby(\"Country\").Revenue.sum()"
   ]
  },
  {
   "cell_type": "markdown",
   "metadata": {},
   "source": [
    "First, let's add a \"Month\" column. Insert a new column to the left of the Customer ID\n",
    "column, and use formula to derive the month of sales from the Date column.\n",
    "\n",
    "Q2: What is the total revenue for all the sales in the month of December ?\n",
    "\n",
    "#My initial thought is that not all months are xx/xx/xxxx, but if they were a string you could take [:-8] which would give you everything before the first slash and would be fine. Importing another module is just a matter of knowing of its existence and when to use it"
   ]
  },
  {
   "cell_type": "code",
   "execution_count": 62,
   "metadata": {},
   "outputs": [],
   "source": [
    "excel_sheet[\"Month\"] = pd.DatetimeIndex(excel_sheet.Date).month"
   ]
  },
  {
   "cell_type": "code",
   "execution_count": 64,
   "metadata": {},
   "outputs": [
    {
     "data": {
      "text/plain": [
       "Month\n",
       "1     7005895\n",
       "2     6834583\n",
       "3     7347164\n",
       "4     7602750\n",
       "5     8836763\n",
       "6     9043008\n",
       "7     5721459\n",
       "8     5711193\n",
       "9     5841885\n",
       "10    5995079\n",
       "11    6244298\n",
       "12    9086931\n",
       "Name: Revenue, dtype: int64"
      ]
     },
     "execution_count": 64,
     "metadata": {},
     "output_type": "execute_result"
    }
   ],
   "source": [
    "excel_sheet.groupby(\"Month\").Revenue.sum()\n",
    "#Here again, not many months so output is sufficiently short to not slice"
   ]
  },
  {
   "cell_type": "code",
   "execution_count": 1,
   "metadata": {},
   "outputs": [
    {
     "data": {
      "text/plain": [
       "'excel_sheet[\"Age Group\"] = [(\"Youth\" if i < 25 and \\n                            \"Young Adult\" if i >= 25 and i < 35) and\\n                            (\"Adults\" if i >= 35 and i < 64) else\\n                            \"Seniors\" for i in excel_sheet[\"Customer Age\"]]\\n\\n\\nfor i in len(excel_sheet[\"Customer Age\"]):\\n    if i < 25:\\n        excel_sheet[\"Age Group\"[i]] = \"Youth\"\\n    elif i >= 25 and i < 35: \\n        excel_sheet[\"Age Group\"[i]] = \"Young Adult\"\\n    elif i >= 35 and i < 63:\\n        excel_sheet[\"Age Group\"[i]] = \"Adults\"\\n    else: \\n        excel_sheet[\"Age Group\"[i]] = \"Seniors\"\\n        \\nHere I had an issue making the column as a list comp. I could get it to have only two values, \\nlet\\'s say Youth and Adult, but not Youth AND Young Adult AND Adults AND Seniors\\n'"
      ]
     },
     "execution_count": 1,
     "metadata": {},
     "output_type": "execute_result"
    }
   ],
   "source": [
    "\"\"\"excel_sheet[\"Age Group\"] = [(\"Youth\" if i < 25 and \n",
    "                            \"Young Adult\" if i >= 25 and i < 35) and\n",
    "                            (\"Adults\" if i >= 35 and i < 64) else\n",
    "                            \"Seniors\" for i in excel_sheet[\"Customer Age\"]]\n",
    "\n",
    "\n",
    "for i in len(excel_sheet[\"Customer Age\"]):\n",
    "    if i < 25:\n",
    "        excel_sheet[\"Age Group\"[i]] = \"Youth\"\n",
    "    elif i >= 25 and i < 35: \n",
    "        excel_sheet[\"Age Group\"[i]] = \"Young Adult\"\n",
    "    elif i >= 35 and i < 63:\n",
    "        excel_sheet[\"Age Group\"[i]] = \"Adults\"\n",
    "    else: \n",
    "        excel_sheet[\"Age Group\"[i]] = \"Seniors\"\n",
    "        \n",
    "Here I had an issue making the column as a list comp. I could get it to have only two values, \n",
    "let's say Youth and Adult, but not Youth AND Young Adult AND Adults AND Seniors\n",
    "\"\"\"\n",
    "\n",
    "                           "
   ]
  },
  {
   "cell_type": "markdown",
   "metadata": {},
   "source": [
    "Next, let's add an \"Age Group\" column. Remember to clear any filters you previously\n",
    "applied. Insert a new column to the left of the Customer Gender , and use formula to\n",
    "derive the age group from the Customer Age column. Let's group the customers based\n",
    "on the following criteria:\n",
    "○ Youth (<25)\n",
    "○ Young Adults (25-34)\n",
    "○ Adults (35-64)\n",
    "○ Seniors (>64)\n",
    "\n",
    "Q3: What is the total revenue for all the sales for the Young Adults Age Group?"
   ]
  },
  {
   "cell_type": "code",
   "execution_count": 88,
   "metadata": {},
   "outputs": [
    {
     "data": {
      "text/plain": [
       "Age Group\n",
       "Adults         42584153\n",
       "Seniors          308042\n",
       "Young Adult    30655614\n",
       "Youth          11723199\n",
       "Name: Revenue, dtype: int64"
      ]
     },
     "execution_count": 88,
     "metadata": {},
     "output_type": "execute_result"
    }
   ],
   "source": [
    "ez = excel_sheet[\"Customer Age\"]\n",
    "conditionlist = [\n",
    "                (ez < 25) ,\n",
    "                (ez >= 25) & (ez < 35),\n",
    "                (ez >= 35) & (ez < 65),\n",
    "                (ez >=65)]\n",
    "choicelist = [\"Youth\", \"Young Adult\", \"Adults\", \"Seniors\"]\n",
    "excel_sheet[\"Age Group\"] = np.select(conditionlist, choicelist, default='Not Specified')\n",
    "excel_sheet.groupby(\"Age Group\").Revenue.sum()"
   ]
  },
  {
   "cell_type": "markdown",
   "metadata": {},
   "source": [
    "Now, let's add a \"Frame Size\" column. Insert a new column to the left of the Order\n",
    "Quantity , and use formula to derive the frame size of a bicycle from the last two\n",
    "characters of the Product column, when the Product Category is Bikes . Otherwise, leave\n",
    "it blank.\n",
    "\n",
    "Q4: What is the total revenue for all the bikes with frame size 62 for the customer age\n",
    "group Seniors ?"
   ]
  },
  {
   "cell_type": "code",
   "execution_count": 102,
   "metadata": {},
   "outputs": [
    {
     "data": {
      "text/html": [
       "<div>\n",
       "<style scoped>\n",
       "    .dataframe tbody tr th:only-of-type {\n",
       "        vertical-align: middle;\n",
       "    }\n",
       "\n",
       "    .dataframe tbody tr th {\n",
       "        vertical-align: top;\n",
       "    }\n",
       "\n",
       "    .dataframe thead th {\n",
       "        text-align: right;\n",
       "    }\n",
       "</style>\n",
       "<table border=\"1\" class=\"dataframe\">\n",
       "  <thead>\n",
       "    <tr style=\"text-align: right;\">\n",
       "      <th></th>\n",
       "      <th>Age Group</th>\n",
       "      <th>Product</th>\n",
       "      <th>Revenue</th>\n",
       "    </tr>\n",
       "  </thead>\n",
       "  <tbody>\n",
       "    <tr>\n",
       "      <th>0</th>\n",
       "      <td>Adults</td>\n",
       "      <td>AWC Logo Cap</td>\n",
       "      <td>271752</td>\n",
       "    </tr>\n",
       "    <tr>\n",
       "      <th>1</th>\n",
       "      <td>Adults</td>\n",
       "      <td>All-Purpose Bike Stand</td>\n",
       "      <td>174582</td>\n",
       "    </tr>\n",
       "    <tr>\n",
       "      <th>2</th>\n",
       "      <td>Adults</td>\n",
       "      <td>Bike Wash - Dissolver</td>\n",
       "      <td>103918</td>\n",
       "    </tr>\n",
       "    <tr>\n",
       "      <th>3</th>\n",
       "      <td>Adults</td>\n",
       "      <td>Classic Vest, L</td>\n",
       "      <td>142664</td>\n",
       "    </tr>\n",
       "    <tr>\n",
       "      <th>4</th>\n",
       "      <td>Adults</td>\n",
       "      <td>Classic Vest, M</td>\n",
       "      <td>121673</td>\n",
       "    </tr>\n",
       "    <tr>\n",
       "      <th>...</th>\n",
       "      <td>...</td>\n",
       "      <td>...</td>\n",
       "      <td>...</td>\n",
       "    </tr>\n",
       "    <tr>\n",
       "      <th>439</th>\n",
       "      <td>Youth</td>\n",
       "      <td>Touring-3000 Yellow, 62</td>\n",
       "      <td>6137</td>\n",
       "    </tr>\n",
       "    <tr>\n",
       "      <th>440</th>\n",
       "      <td>Youth</td>\n",
       "      <td>Water Bottle - 30 oz.</td>\n",
       "      <td>115516</td>\n",
       "    </tr>\n",
       "    <tr>\n",
       "      <th>441</th>\n",
       "      <td>Youth</td>\n",
       "      <td>Women's Mountain Shorts, L</td>\n",
       "      <td>51580</td>\n",
       "    </tr>\n",
       "    <tr>\n",
       "      <th>442</th>\n",
       "      <td>Youth</td>\n",
       "      <td>Women's Mountain Shorts, M</td>\n",
       "      <td>133819</td>\n",
       "    </tr>\n",
       "    <tr>\n",
       "      <th>443</th>\n",
       "      <td>Youth</td>\n",
       "      <td>Women's Mountain Shorts, S</td>\n",
       "      <td>84314</td>\n",
       "    </tr>\n",
       "  </tbody>\n",
       "</table>\n",
       "<p>444 rows × 3 columns</p>\n",
       "</div>"
      ],
      "text/plain": [
       "    Age Group                     Product  Revenue\n",
       "0      Adults                AWC Logo Cap   271752\n",
       "1      Adults      All-Purpose Bike Stand   174582\n",
       "2      Adults       Bike Wash - Dissolver   103918\n",
       "3      Adults             Classic Vest, L   142664\n",
       "4      Adults             Classic Vest, M   121673\n",
       "..        ...                         ...      ...\n",
       "439     Youth     Touring-3000 Yellow, 62     6137\n",
       "440     Youth       Water Bottle - 30 oz.   115516\n",
       "441     Youth  Women's Mountain Shorts, L    51580\n",
       "442     Youth  Women's Mountain Shorts, M   133819\n",
       "443     Youth  Women's Mountain Shorts, S    84314\n",
       "\n",
       "[444 rows x 3 columns]"
      ]
     },
     "execution_count": 102,
     "metadata": {},
     "output_type": "execute_result"
    }
   ],
   "source": [
    "excel_sheet.Product.unique()\n",
    "#Lots of products!"
   ]
  },
  {
   "cell_type": "code",
   "execution_count": null,
   "metadata": {},
   "outputs": [],
   "source": [
    "new_possible = excel_sheet.groupby([\"Age Group\", \"Product\"], as_index=False)[\"Revenue\"].sum()\n",
    "meh = new_possible.loc[new_possible[\"Age Group\"] == \"Seniors\"]\n",
    "meh.groupby(\"Product\").Revenue.sum()"
   ]
  },
  {
   "cell_type": "markdown",
   "metadata": {},
   "source": [
    "Meh is meh here because I knew it wasn't quite the correct way to do it, but it worked. My luck of not slicing runs out in the next question -- and in retrospect lots of work here for nothing when I could have had it easily spit some things out for me."
   ]
  },
  {
   "cell_type": "code",
   "execution_count": 114,
   "metadata": {},
   "outputs": [
    {
     "data": {
      "text/plain": [
       "'excel_sheet[\"Frame Size\"] = \"\"\\nfor element in excel_sheet.Product:\\n    temp = [element[-2:]]\\n    temp2 = []\\n    for num in temp:\\n        if num.type = \\n'"
      ]
     },
     "execution_count": 114,
     "metadata": {},
     "output_type": "execute_result"
    }
   ],
   "source": [
    "\"\"\"excel_sheet[\"Frame Size\"] = \"\"\n",
    "for element in excel_sheet.Product:\n",
    "    temp = [element[-2:]]\n",
    "    temp2 = []\n",
    "    for num in temp:\n",
    "        if num.type = \n",
    "I was going to slice out the important information and ask \"Is Int?\"...but it turned out that was unnecessary.\n",
    "\"\"\""
   ]
  },
  {
   "cell_type": "markdown",
   "metadata": {},
   "source": [
    "Last but not least, let's add a \"Profit\" column. Insert a new column to the right of the\n",
    "Revenue , and use formula to derive the Profit from both the Revenue and Cost columns.\n",
    "Show the total for the Profit column. Use the Sum aggregation in the total row of the\n",
    "table, for the Profit column.\n",
    "\n",
    "Q5: What is the total profit for United States sales in the month of October 2015 , for\n",
    "customer age group Adults ?"
   ]
  },
  {
   "cell_type": "code",
   "execution_count": 123,
   "metadata": {},
   "outputs": [],
   "source": [
    "excel_sheet[\"Profit\"] = excel_sheet.Revenue - excel_sheet.Cost\n"
   ]
  },
  {
   "cell_type": "code",
   "execution_count": 128,
   "metadata": {},
   "outputs": [
    {
     "data": {
      "text/plain": [
       "dtype('int64')"
      ]
     },
     "execution_count": 128,
     "metadata": {},
     "output_type": "execute_result"
    }
   ],
   "source": [
    "excel_sheet.Year[1].dtype"
   ]
  },
  {
   "cell_type": "code",
   "execution_count": 134,
   "metadata": {},
   "outputs": [
    {
     "data": {
      "text/plain": [
       "Age Group\n",
       "Adults         138419\n",
       "Seniors           112\n",
       "Young Adult    138097\n",
       "Youth           71069\n",
       "Name: Profit, dtype: int64"
      ]
     },
     "execution_count": 134,
     "metadata": {},
     "output_type": "execute_result"
    }
   ],
   "source": [
    "meh2 = excel_sheet.loc[(excel_sheet.Country == \"United States\") & (excel_sheet.Month == 10) & (excel_sheet.Year == 2015)]\n",
    "meh2.groupby(excel_sheet[\"Age Group\"]).Profit.sum()\n",
    "#I realized after doing this I could have just sliced Adults but I knew it would only return 4 results"
   ]
  },
  {
   "cell_type": "code",
   "execution_count": null,
   "metadata": {},
   "outputs": [],
   "source": []
  },
  {
   "cell_type": "code",
   "execution_count": null,
   "metadata": {},
   "outputs": [],
   "source": []
  }
 ],
 "metadata": {
  "kernelspec": {
   "display_name": "Python 3",
   "language": "python",
   "name": "python3"
  },
  "language_info": {
   "codemirror_mode": {
    "name": "ipython",
    "version": 3
   },
   "file_extension": ".py",
   "mimetype": "text/x-python",
   "name": "python",
   "nbconvert_exporter": "python",
   "pygments_lexer": "ipython3",
   "version": "3.8.3"
  }
 },
 "nbformat": 4,
 "nbformat_minor": 4
}
