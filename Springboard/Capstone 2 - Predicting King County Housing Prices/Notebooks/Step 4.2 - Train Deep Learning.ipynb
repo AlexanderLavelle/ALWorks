{
 "cells": [
  {
   "cell_type": "code",
   "execution_count": 1,
   "metadata": {},
   "outputs": [],
   "source": [
    "import matplotlib.pyplot as plt\n",
    "import numpy as np\n",
    "import pandas as pd\n",
    "import seaborn as sns"
   ]
  },
  {
   "cell_type": "code",
   "execution_count": 2,
   "metadata": {},
   "outputs": [],
   "source": [
    "from sklearn.metrics import mean_absolute_error,accuracy_score,mean_squared_error\n",
    "from sklearn.model_selection import train_test_split"
   ]
  },
  {
   "cell_type": "code",
   "execution_count": 3,
   "metadata": {},
   "outputs": [],
   "source": [
    "df = pd.read_csv('../data/min_max_df.csv', parse_dates=['date'], index_col=[0])"
   ]
  },
  {
   "cell_type": "code",
   "execution_count": 4,
   "metadata": {},
   "outputs": [
    {
     "data": {
      "text/html": [
       "<div>\n",
       "<style scoped>\n",
       "    .dataframe tbody tr th:only-of-type {\n",
       "        vertical-align: middle;\n",
       "    }\n",
       "\n",
       "    .dataframe tbody tr th {\n",
       "        vertical-align: top;\n",
       "    }\n",
       "\n",
       "    .dataframe thead th {\n",
       "        text-align: right;\n",
       "    }\n",
       "</style>\n",
       "<table border=\"1\" class=\"dataframe\">\n",
       "  <thead>\n",
       "    <tr style=\"text-align: right;\">\n",
       "      <th></th>\n",
       "      <th>id</th>\n",
       "      <th>date</th>\n",
       "      <th>price</th>\n",
       "      <th>bedrooms</th>\n",
       "      <th>bathrooms</th>\n",
       "      <th>sqft_living</th>\n",
       "      <th>sqft_lot</th>\n",
       "      <th>floors</th>\n",
       "      <th>waterfront</th>\n",
       "      <th>view</th>\n",
       "      <th>...</th>\n",
       "      <th>98146</th>\n",
       "      <th>98148</th>\n",
       "      <th>98155</th>\n",
       "      <th>98166</th>\n",
       "      <th>98168</th>\n",
       "      <th>98177</th>\n",
       "      <th>98178</th>\n",
       "      <th>98188</th>\n",
       "      <th>98198</th>\n",
       "      <th>98199</th>\n",
       "    </tr>\n",
       "  </thead>\n",
       "  <tbody>\n",
       "    <tr>\n",
       "      <th>0</th>\n",
       "      <td>7129300520</td>\n",
       "      <td>2014-10-13</td>\n",
       "      <td>0.018880</td>\n",
       "      <td>0.222222</td>\n",
       "      <td>0.066667</td>\n",
       "      <td>0.061503</td>\n",
       "      <td>0.003108</td>\n",
       "      <td>0.0</td>\n",
       "      <td>0.0</td>\n",
       "      <td>0.0</td>\n",
       "      <td>...</td>\n",
       "      <td>0.0</td>\n",
       "      <td>0.0</td>\n",
       "      <td>0.0</td>\n",
       "      <td>0.0</td>\n",
       "      <td>0.0</td>\n",
       "      <td>0.0</td>\n",
       "      <td>1.0</td>\n",
       "      <td>0.0</td>\n",
       "      <td>0.0</td>\n",
       "      <td>0.0</td>\n",
       "    </tr>\n",
       "    <tr>\n",
       "      <th>1</th>\n",
       "      <td>6414100192</td>\n",
       "      <td>2014-12-09</td>\n",
       "      <td>0.060352</td>\n",
       "      <td>0.222222</td>\n",
       "      <td>0.233333</td>\n",
       "      <td>0.167046</td>\n",
       "      <td>0.004072</td>\n",
       "      <td>0.4</td>\n",
       "      <td>0.0</td>\n",
       "      <td>0.0</td>\n",
       "      <td>...</td>\n",
       "      <td>0.0</td>\n",
       "      <td>0.0</td>\n",
       "      <td>0.0</td>\n",
       "      <td>0.0</td>\n",
       "      <td>0.0</td>\n",
       "      <td>0.0</td>\n",
       "      <td>0.0</td>\n",
       "      <td>0.0</td>\n",
       "      <td>0.0</td>\n",
       "      <td>0.0</td>\n",
       "    </tr>\n",
       "    <tr>\n",
       "      <th>2</th>\n",
       "      <td>5631500400</td>\n",
       "      <td>2015-02-25</td>\n",
       "      <td>0.013382</td>\n",
       "      <td>0.111111</td>\n",
       "      <td>0.066667</td>\n",
       "      <td>0.030372</td>\n",
       "      <td>0.005743</td>\n",
       "      <td>0.0</td>\n",
       "      <td>0.0</td>\n",
       "      <td>0.0</td>\n",
       "      <td>...</td>\n",
       "      <td>0.0</td>\n",
       "      <td>0.0</td>\n",
       "      <td>0.0</td>\n",
       "      <td>0.0</td>\n",
       "      <td>0.0</td>\n",
       "      <td>0.0</td>\n",
       "      <td>0.0</td>\n",
       "      <td>0.0</td>\n",
       "      <td>0.0</td>\n",
       "      <td>0.0</td>\n",
       "    </tr>\n",
       "    <tr>\n",
       "      <th>3</th>\n",
       "      <td>2487200875</td>\n",
       "      <td>2014-12-09</td>\n",
       "      <td>0.069011</td>\n",
       "      <td>0.333333</td>\n",
       "      <td>0.333333</td>\n",
       "      <td>0.120729</td>\n",
       "      <td>0.002714</td>\n",
       "      <td>0.0</td>\n",
       "      <td>0.0</td>\n",
       "      <td>0.0</td>\n",
       "      <td>...</td>\n",
       "      <td>0.0</td>\n",
       "      <td>0.0</td>\n",
       "      <td>0.0</td>\n",
       "      <td>0.0</td>\n",
       "      <td>0.0</td>\n",
       "      <td>0.0</td>\n",
       "      <td>0.0</td>\n",
       "      <td>0.0</td>\n",
       "      <td>0.0</td>\n",
       "      <td>0.0</td>\n",
       "    </tr>\n",
       "    <tr>\n",
       "      <th>4</th>\n",
       "      <td>1954400510</td>\n",
       "      <td>2015-02-18</td>\n",
       "      <td>0.056678</td>\n",
       "      <td>0.222222</td>\n",
       "      <td>0.200000</td>\n",
       "      <td>0.099468</td>\n",
       "      <td>0.004579</td>\n",
       "      <td>0.0</td>\n",
       "      <td>0.0</td>\n",
       "      <td>0.0</td>\n",
       "      <td>...</td>\n",
       "      <td>0.0</td>\n",
       "      <td>0.0</td>\n",
       "      <td>0.0</td>\n",
       "      <td>0.0</td>\n",
       "      <td>0.0</td>\n",
       "      <td>0.0</td>\n",
       "      <td>0.0</td>\n",
       "      <td>0.0</td>\n",
       "      <td>0.0</td>\n",
       "      <td>0.0</td>\n",
       "    </tr>\n",
       "  </tbody>\n",
       "</table>\n",
       "<p>5 rows × 99 columns</p>\n",
       "</div>"
      ],
      "text/plain": [
       "           id       date     price  bedrooms  bathrooms  sqft_living  \\\n",
       "0  7129300520 2014-10-13  0.018880  0.222222   0.066667     0.061503   \n",
       "1  6414100192 2014-12-09  0.060352  0.222222   0.233333     0.167046   \n",
       "2  5631500400 2015-02-25  0.013382  0.111111   0.066667     0.030372   \n",
       "3  2487200875 2014-12-09  0.069011  0.333333   0.333333     0.120729   \n",
       "4  1954400510 2015-02-18  0.056678  0.222222   0.200000     0.099468   \n",
       "\n",
       "   sqft_lot  floors  waterfront  view  ...  98146  98148  98155  98166  98168  \\\n",
       "0  0.003108     0.0         0.0   0.0  ...    0.0    0.0    0.0    0.0    0.0   \n",
       "1  0.004072     0.4         0.0   0.0  ...    0.0    0.0    0.0    0.0    0.0   \n",
       "2  0.005743     0.0         0.0   0.0  ...    0.0    0.0    0.0    0.0    0.0   \n",
       "3  0.002714     0.0         0.0   0.0  ...    0.0    0.0    0.0    0.0    0.0   \n",
       "4  0.004579     0.0         0.0   0.0  ...    0.0    0.0    0.0    0.0    0.0   \n",
       "\n",
       "   98177  98178  98188  98198  98199  \n",
       "0    0.0    1.0    0.0    0.0    0.0  \n",
       "1    0.0    0.0    0.0    0.0    0.0  \n",
       "2    0.0    0.0    0.0    0.0    0.0  \n",
       "3    0.0    0.0    0.0    0.0    0.0  \n",
       "4    0.0    0.0    0.0    0.0    0.0  \n",
       "\n",
       "[5 rows x 99 columns]"
      ]
     },
     "execution_count": 4,
     "metadata": {},
     "output_type": "execute_result"
    }
   ],
   "source": [
    "df.head()"
   ]
  },
  {
   "cell_type": "code",
   "execution_count": 5,
   "metadata": {},
   "outputs": [],
   "source": [
    "df['year'] = df.date.dt.year\n",
    "df['month'] = df.date.dt.month"
   ]
  },
  {
   "cell_type": "code",
   "execution_count": 6,
   "metadata": {},
   "outputs": [],
   "source": [
    "ohe = pd.get_dummies(df.year, sparse=False)\n",
    "df = df.join(ohe)"
   ]
  },
  {
   "cell_type": "code",
   "execution_count": 7,
   "metadata": {},
   "outputs": [],
   "source": [
    "ohe = pd.get_dummies(df.month, sparse=False)\n",
    "df = df.join(ohe)"
   ]
  },
  {
   "cell_type": "code",
   "execution_count": 8,
   "metadata": {},
   "outputs": [
    {
     "data": {
      "text/plain": [
       "Index([         'id',        'date',       'price',    'bedrooms',\n",
       "         'bathrooms', 'sqft_living',    'sqft_lot',      'floors',\n",
       "        'waterfront',        'view',\n",
       "       ...\n",
       "                   3,             4,             5,             6,\n",
       "                   7,             8,             9,            10,\n",
       "                  11,            12],\n",
       "      dtype='object', length=115)"
      ]
     },
     "execution_count": 8,
     "metadata": {},
     "output_type": "execute_result"
    }
   ],
   "source": [
    "df.columns"
   ]
  },
  {
   "cell_type": "code",
   "execution_count": 9,
   "metadata": {},
   "outputs": [],
   "source": [
    "full_feats = ['bedrooms', 'bathrooms', 'sqft_living',\n",
    "       'sqft_lot', 'floors', 'waterfront', 'view', 'condition', 'grade',\n",
    "       'sqft_above', 'sqft_basement', 'yr_built', 'yr_renovated', 'zipcode',\n",
    "       'lat', 'long', 'sqft_living15', 'sqft_lot15', 'renovated', 'since_reno',\n",
    "       'has_basement', 'basement_lot_pct', 'aboveground_lot_pct', 'PctofLot',\n",
    "       'age', 'likelyApartment', '98001', '98002', '98003', '98004', '98005',\n",
    "       '98006', '98007', '98008', '98010', '98011', '98014', '98019', '98022',\n",
    "       '98023', '98024', '98027', '98028', '98029', '98030', '98031', '98032',\n",
    "       '98033', '98034', '98038', '98039', '98040', '98042', '98045', '98052',\n",
    "       '98053', '98055', '98056', '98058', '98059', '98065', '98070', '98072',\n",
    "       '98074', '98075', '98077', '98092', '98102', '98103', '98105', '98106',\n",
    "       '98107', '98108', '98109', '98112', '98115', '98116', '98117', '98118',\n",
    "       '98119', '98122', '98125', '98126', '98133', '98136', '98144', '98146',\n",
    "       '98148', '98155', '98166', '98168', '98177', '98178', '98188', '98198',\n",
    "       '98199']"
   ]
  },
  {
   "cell_type": "code",
   "execution_count": 10,
   "metadata": {},
   "outputs": [],
   "source": [
    "X = df[full_feats]\n",
    "y = df.price\n",
    "X_train, X_test, y_train, y_test = train_test_split(X, y, test_size=.2)"
   ]
  },
  {
   "cell_type": "code",
   "execution_count": 11,
   "metadata": {},
   "outputs": [],
   "source": [
    "from tensorflow import keras\n",
    "from tensorflow.keras import layers\n",
    "from tensorflow.keras.callbacks import EarlyStopping\n",
    "from tensorflow.keras import regularizers"
   ]
  },
  {
   "cell_type": "code",
   "execution_count": 31,
   "metadata": {},
   "outputs": [],
   "source": [
    "keras.backend.clear_session()"
   ]
  },
  {
   "cell_type": "code",
   "execution_count": 32,
   "metadata": {},
   "outputs": [],
   "source": [
    "early_stopping = EarlyStopping(\n",
    "    min_delta=0.001, \n",
    "    patience=20, \n",
    "    restore_best_weights=True,\n",
    ")\n",
    "\n",
    "kerasModel = keras.Sequential([\n",
    "    layers.Dense(32, activation='sigmoid', input_shape=[X_train.shape[1],], kernel_regularizer=regularizers.l2(1e-4)),\n",
    "    layers.BatchNormalization(),\n",
    "    #layers.Dropout(.2),\n",
    "    layers.Dense(32, activation='relu', kernel_regularizer=regularizers.l2(1e-4)),\n",
    "    layers.BatchNormalization(),\n",
    "    #layers.Dropout(.5),\n",
    "    layers.Dense(128, activation='relu', kernel_regularizer=regularizers.l2(1e-4)),\n",
    "    layers.BatchNormalization(),\n",
    "    layers.Dropout(.5),\n",
    "    layers.Dense(256, activation='relu', kernel_regularizer=regularizers.l2(1e-4)),\n",
    "    layers.BatchNormalization(),\n",
    "    layers.Dropout(.5),\n",
    "    layers.Dense(1024, activation='relu', kernel_regularizer=regularizers.l2(1e-4)),\n",
    "    layers.BatchNormalization(),\n",
    "    #layers.Dropout(.5),\n",
    "    layers.Dense(1)\n",
    "])\n",
    "    "
   ]
  },
  {
   "cell_type": "code",
   "execution_count": 33,
   "metadata": {},
   "outputs": [
    {
     "name": "stdout",
     "output_type": "stream",
     "text": [
      "Epoch 1/100\n",
      "270/270 [==============================] - 4s 8ms/step - loss: 1.3139 - mean_absolute_error: 1.2424 - val_loss: 0.1362 - val_mean_absolute_error: 0.0640\n",
      "Epoch 2/100\n",
      "270/270 [==============================] - 2s 9ms/step - loss: 0.6180 - mean_absolute_error: 0.5457 - val_loss: 0.1510 - val_mean_absolute_error: 0.0788\n",
      "Epoch 3/100\n",
      "270/270 [==============================] - 2s 7ms/step - loss: 0.1693 - mean_absolute_error: 0.0973 - val_loss: 0.1030 - val_mean_absolute_error: 0.0316\n",
      "Epoch 4/100\n",
      "270/270 [==============================] - 2s 7ms/step - loss: 0.1277 - mean_absolute_error: 0.0564 - val_loss: 0.1009 - val_mean_absolute_error: 0.0302\n",
      "Epoch 5/100\n",
      "270/270 [==============================] - 2s 7ms/step - loss: 0.1250 - mean_absolute_error: 0.0546 - val_loss: 0.1013 - val_mean_absolute_error: 0.0316\n",
      "Epoch 6/100\n",
      "270/270 [==============================] - 2s 8ms/step - loss: 0.1262 - mean_absolute_error: 0.0568 - val_loss: 0.0975 - val_mean_absolute_error: 0.0288\n",
      "Epoch 7/100\n",
      "270/270 [==============================] - 2s 7ms/step - loss: 0.1234 - mean_absolute_error: 0.0550 - val_loss: 0.0969 - val_mean_absolute_error: 0.0294\n",
      "Epoch 8/100\n",
      "270/270 [==============================] - 2s 7ms/step - loss: 0.1206 - mean_absolute_error: 0.0533 - val_loss: 0.0927 - val_mean_absolute_error: 0.0263\n",
      "Epoch 9/100\n",
      "270/270 [==============================] - 2s 8ms/step - loss: 0.1189 - mean_absolute_error: 0.0529 - val_loss: 0.0979 - val_mean_absolute_error: 0.0330\n",
      "Epoch 10/100\n",
      "270/270 [==============================] - 2s 7ms/step - loss: 0.1149 - mean_absolute_error: 0.0502 - val_loss: 0.0869 - val_mean_absolute_error: 0.0234\n",
      "Epoch 11/100\n",
      "270/270 [==============================] - 3s 10ms/step - loss: 0.1113 - mean_absolute_error: 0.0482 - val_loss: 0.0891 - val_mean_absolute_error: 0.0271\n",
      "Epoch 12/100\n",
      "270/270 [==============================] - 2s 7ms/step - loss: 0.1085 - mean_absolute_error: 0.0469 - val_loss: 0.0895 - val_mean_absolute_error: 0.0291\n",
      "Epoch 13/100\n",
      "270/270 [==============================] - 2s 7ms/step - loss: 0.1074 - mean_absolute_error: 0.0474 - val_loss: 0.0932 - val_mean_absolute_error: 0.0345\n",
      "Epoch 14/100\n",
      "270/270 [==============================] - 2s 7ms/step - loss: 0.1032 - mean_absolute_error: 0.0450 - val_loss: 0.1422 - val_mean_absolute_error: 0.0854\n",
      "Epoch 15/100\n",
      "270/270 [==============================] - 2s 7ms/step - loss: 0.1019 - mean_absolute_error: 0.0455 - val_loss: 0.0852 - val_mean_absolute_error: 0.0303\n",
      "Epoch 16/100\n",
      "270/270 [==============================] - 2s 7ms/step - loss: 0.0959 - mean_absolute_error: 0.0415 - val_loss: 0.0728 - val_mean_absolute_error: 0.0200\n",
      "Epoch 17/100\n",
      "270/270 [==============================] - 2s 8ms/step - loss: 0.0906 - mean_absolute_error: 0.0384 - val_loss: 0.0702 - val_mean_absolute_error: 0.0197\n",
      "Epoch 18/100\n",
      "270/270 [==============================] - 2s 8ms/step - loss: 0.0866 - mean_absolute_error: 0.0366 - val_loss: 0.0667 - val_mean_absolute_error: 0.0185\n",
      "Epoch 19/100\n",
      "270/270 [==============================] - 2s 8ms/step - loss: 0.0848 - mean_absolute_error: 0.0372 - val_loss: 0.0672 - val_mean_absolute_error: 0.0214\n",
      "Epoch 20/100\n",
      "270/270 [==============================] - 2s 7ms/step - loss: 0.0820 - mean_absolute_error: 0.0367 - val_loss: 0.0756 - val_mean_absolute_error: 0.0322\n",
      "Epoch 21/100\n",
      "270/270 [==============================] - 2s 8ms/step - loss: 0.0810 - mean_absolute_error: 0.0382 - val_loss: 0.0625 - val_mean_absolute_error: 0.0216\n",
      "Epoch 22/100\n",
      "270/270 [==============================] - 2s 8ms/step - loss: 0.0769 - mean_absolute_error: 0.0367 - val_loss: 0.0555 - val_mean_absolute_error: 0.0172\n",
      "Epoch 23/100\n",
      "270/270 [==============================] - 2s 8ms/step - loss: 0.0696 - mean_absolute_error: 0.0319 - val_loss: 0.0611 - val_mean_absolute_error: 0.0253\n",
      "Epoch 24/100\n",
      "270/270 [==============================] - 2s 8ms/step - loss: 0.0701 - mean_absolute_error: 0.0349 - val_loss: 0.0451 - val_mean_absolute_error: 0.0119\n",
      "Epoch 25/100\n",
      "270/270 [==============================] - 2s 8ms/step - loss: 0.0638 - mean_absolute_error: 0.0312 - val_loss: 0.0538 - val_mean_absolute_error: 0.0231\n",
      "Epoch 26/100\n",
      "270/270 [==============================] - 3s 10ms/step - loss: 0.0638 - mean_absolute_error: 0.0336 - val_loss: 0.0617 - val_mean_absolute_error: 0.0333\n",
      "Epoch 27/100\n",
      "270/270 [==============================] - 3s 10ms/step - loss: 0.0597 - mean_absolute_error: 0.0319 - val_loss: 0.0412 - val_mean_absolute_error: 0.0149\n",
      "Epoch 28/100\n",
      "270/270 [==============================] - 3s 12ms/step - loss: 0.0590 - mean_absolute_error: 0.0333 - val_loss: 0.0784 - val_mean_absolute_error: 0.0543\n",
      "Epoch 29/100\n",
      "270/270 [==============================] - 2s 8ms/step - loss: 0.0616 - mean_absolute_error: 0.0379 - val_loss: 0.0773 - val_mean_absolute_error: 0.0548\n",
      "Epoch 30/100\n",
      "270/270 [==============================] - 2s 8ms/step - loss: 0.0625 - mean_absolute_error: 0.0404 - val_loss: 0.0369 - val_mean_absolute_error: 0.0160\n",
      "Epoch 31/100\n",
      "270/270 [==============================] - 2s 8ms/step - loss: 0.0522 - mean_absolute_error: 0.0317 - val_loss: 0.0389 - val_mean_absolute_error: 0.0192\n",
      "Epoch 32/100\n",
      "270/270 [==============================] - 2s 8ms/step - loss: 0.0569 - mean_absolute_error: 0.0374 - val_loss: 0.0319 - val_mean_absolute_error: 0.0130\n",
      "Epoch 33/100\n",
      "270/270 [==============================] - 2s 9ms/step - loss: 0.0535 - mean_absolute_error: 0.0350 - val_loss: 0.0505 - val_mean_absolute_error: 0.0327\n",
      "Epoch 34/100\n",
      "270/270 [==============================] - 3s 9ms/step - loss: 0.0539 - mean_absolute_error: 0.0362 - val_loss: 0.0746 - val_mean_absolute_error: 0.0575\n",
      "Epoch 35/100\n",
      "270/270 [==============================] - 2s 8ms/step - loss: 0.0565 - mean_absolute_error: 0.0396 - val_loss: 0.0728 - val_mean_absolute_error: 0.0562\n",
      "Epoch 36/100\n",
      "270/270 [==============================] - 2s 8ms/step - loss: 0.0521 - mean_absolute_error: 0.0358 - val_loss: 0.0321 - val_mean_absolute_error: 0.0164\n",
      "Epoch 37/100\n",
      "270/270 [==============================] - 2s 8ms/step - loss: 0.0525 - mean_absolute_error: 0.0369 - val_loss: 0.0324 - val_mean_absolute_error: 0.0174\n",
      "Epoch 38/100\n",
      "270/270 [==============================] - 3s 10ms/step - loss: 0.0485 - mean_absolute_error: 0.0336 - val_loss: 0.0729 - val_mean_absolute_error: 0.0583\n",
      "Epoch 39/100\n",
      "270/270 [==============================] - 3s 10ms/step - loss: 0.0508 - mean_absolute_error: 0.0362 - val_loss: 0.0350 - val_mean_absolute_error: 0.0206\n",
      "Epoch 40/100\n",
      "270/270 [==============================] - 3s 9ms/step - loss: 0.0487 - mean_absolute_error: 0.0344 - val_loss: 0.0429 - val_mean_absolute_error: 0.0291\n",
      "Epoch 41/100\n",
      "270/270 [==============================] - 3s 12ms/step - loss: 0.0541 - mean_absolute_error: 0.0402 - val_loss: 0.0560 - val_mean_absolute_error: 0.0418\n",
      "Epoch 42/100\n",
      "270/270 [==============================] - 2s 8ms/step - loss: 0.0512 - mean_absolute_error: 0.0371 - val_loss: 0.0516 - val_mean_absolute_error: 0.0377\n",
      "Epoch 43/100\n",
      "270/270 [==============================] - 2s 8ms/step - loss: 0.0496 - mean_absolute_error: 0.0355 - val_loss: 0.0532 - val_mean_absolute_error: 0.0390\n",
      "Epoch 44/100\n",
      "270/270 [==============================] - 2s 8ms/step - loss: 0.0504 - mean_absolute_error: 0.0364 - val_loss: 0.0270 - val_mean_absolute_error: 0.0133\n",
      "Epoch 45/100\n",
      "270/270 [==============================] - 2s 8ms/step - loss: 0.0518 - mean_absolute_error: 0.0382 - val_loss: 0.0400 - val_mean_absolute_error: 0.0269\n",
      "Epoch 46/100\n",
      "270/270 [==============================] - 2s 8ms/step - loss: 0.0485 - mean_absolute_error: 0.0353 - val_loss: 0.0260 - val_mean_absolute_error: 0.0128\n",
      "Epoch 47/100\n",
      "270/270 [==============================] - 2s 8ms/step - loss: 0.0500 - mean_absolute_error: 0.0369 - val_loss: 0.0469 - val_mean_absolute_error: 0.0341\n",
      "Epoch 48/100\n",
      "270/270 [==============================] - 2s 8ms/step - loss: 0.0483 - mean_absolute_error: 0.0356 - val_loss: 0.0582 - val_mean_absolute_error: 0.0458\n",
      "Epoch 49/100\n",
      "270/270 [==============================] - 2s 8ms/step - loss: 0.0520 - mean_absolute_error: 0.0391 - val_loss: 0.0492 - val_mean_absolute_error: 0.0361\n",
      "Epoch 50/100\n"
     ]
    },
    {
     "name": "stdout",
     "output_type": "stream",
     "text": [
      "270/270 [==============================] - 2s 8ms/step - loss: 0.0523 - mean_absolute_error: 0.0390 - val_loss: 0.0322 - val_mean_absolute_error: 0.0191\n",
      "Epoch 51/100\n",
      "270/270 [==============================] - 2s 8ms/step - loss: 0.0503 - mean_absolute_error: 0.0373 - val_loss: 0.0254 - val_mean_absolute_error: 0.0126\n",
      "Epoch 52/100\n",
      "270/270 [==============================] - 2s 8ms/step - loss: 0.0514 - mean_absolute_error: 0.0385 - val_loss: 0.0255 - val_mean_absolute_error: 0.0128\n",
      "Epoch 53/100\n",
      "270/270 [==============================] - 3s 11ms/step - loss: 0.0484 - mean_absolute_error: 0.0356 - val_loss: 0.0718 - val_mean_absolute_error: 0.0593\n",
      "Epoch 54/100\n",
      "270/270 [==============================] - 2s 8ms/step - loss: 0.0500 - mean_absolute_error: 0.0376 - val_loss: 0.0253 - val_mean_absolute_error: 0.0131\n",
      "Epoch 55/100\n",
      "270/270 [==============================] - 3s 9ms/step - loss: 0.0477 - mean_absolute_error: 0.0355 - val_loss: 0.0395 - val_mean_absolute_error: 0.0274\n",
      "Epoch 56/100\n",
      "270/270 [==============================] - 3s 10ms/step - loss: 0.0574 - mean_absolute_error: 0.0446 - val_loss: 0.0627 - val_mean_absolute_error: 0.0485\n",
      "Epoch 57/100\n",
      "270/270 [==============================] - 3s 11ms/step - loss: 0.0479 - mean_absolute_error: 0.0338 - val_loss: 0.1185 - val_mean_absolute_error: 0.1044\n",
      "Epoch 58/100\n",
      "270/270 [==============================] - 4s 14ms/step - loss: 0.0460 - mean_absolute_error: 0.0322 - val_loss: 0.0660 - val_mean_absolute_error: 0.0525\n",
      "Epoch 59/100\n",
      "270/270 [==============================] - 3s 11ms/step - loss: 0.0463 - mean_absolute_error: 0.0331 - val_loss: 0.0427 - val_mean_absolute_error: 0.0297\n",
      "Epoch 60/100\n",
      "270/270 [==============================] - 3s 12ms/step - loss: 0.0478 - mean_absolute_error: 0.0347 - val_loss: 0.0352 - val_mean_absolute_error: 0.0217\n",
      "Epoch 61/100\n",
      "270/270 [==============================] - 3s 11ms/step - loss: 0.0467 - mean_absolute_error: 0.0334 - val_loss: 0.0295 - val_mean_absolute_error: 0.0169\n",
      "Epoch 62/100\n",
      "270/270 [==============================] - 3s 10ms/step - loss: 0.0465 - mean_absolute_error: 0.0338 - val_loss: 0.0278 - val_mean_absolute_error: 0.0150\n",
      "Epoch 63/100\n",
      "270/270 [==============================] - 2s 9ms/step - loss: 0.0489 - mean_absolute_error: 0.0360 - val_loss: 0.0459 - val_mean_absolute_error: 0.0330\n",
      "Epoch 64/100\n",
      "270/270 [==============================] - 2s 8ms/step - loss: 0.0511 - mean_absolute_error: 0.0380 - val_loss: 0.0531 - val_mean_absolute_error: 0.0399\n",
      "Epoch 65/100\n",
      "270/270 [==============================] - 2s 8ms/step - loss: 0.0479 - mean_absolute_error: 0.0346 - val_loss: 0.0524 - val_mean_absolute_error: 0.0390\n",
      "Epoch 66/100\n",
      "270/270 [==============================] - 2s 8ms/step - loss: 0.0501 - mean_absolute_error: 0.0368 - val_loss: 0.0517 - val_mean_absolute_error: 0.0382\n",
      "Epoch 67/100\n",
      "270/270 [==============================] - 2s 9ms/step - loss: 0.0453 - mean_absolute_error: 0.0320 - val_loss: 0.0646 - val_mean_absolute_error: 0.0518\n",
      "Epoch 68/100\n",
      "270/270 [==============================] - 2s 9ms/step - loss: 0.0435 - mean_absolute_error: 0.0307 - val_loss: 0.0678 - val_mean_absolute_error: 0.0550\n",
      "Epoch 69/100\n",
      "270/270 [==============================] - 2s 8ms/step - loss: 0.0442 - mean_absolute_error: 0.0313 - val_loss: 0.0413 - val_mean_absolute_error: 0.0284\n",
      "Epoch 70/100\n",
      "270/270 [==============================] - 2s 8ms/step - loss: 0.0442 - mean_absolute_error: 0.0314 - val_loss: 0.0341 - val_mean_absolute_error: 0.0215\n",
      "Epoch 71/100\n",
      "270/270 [==============================] - 2s 8ms/step - loss: 0.0472 - mean_absolute_error: 0.0348 - val_loss: 0.0426 - val_mean_absolute_error: 0.0306\n",
      "Epoch 72/100\n",
      "270/270 [==============================] - 2s 8ms/step - loss: 0.0450 - mean_absolute_error: 0.0331 - val_loss: 0.0463 - val_mean_absolute_error: 0.0341\n",
      "Epoch 73/100\n",
      "270/270 [==============================] - 2s 8ms/step - loss: 0.0451 - mean_absolute_error: 0.0329 - val_loss: 0.0615 - val_mean_absolute_error: 0.0496\n",
      "Epoch 74/100\n",
      "270/270 [==============================] - 2s 8ms/step - loss: 0.0415 - mean_absolute_error: 0.0296 - val_loss: 0.0269 - val_mean_absolute_error: 0.0153\n",
      "Epoch 75/100\n",
      "270/270 [==============================] - 2s 8ms/step - loss: 0.0430 - mean_absolute_error: 0.0313 - val_loss: 0.0263 - val_mean_absolute_error: 0.0147\n",
      "Epoch 76/100\n",
      "270/270 [==============================] - 3s 11ms/step - loss: 0.0437 - mean_absolute_error: 0.0320 - val_loss: 0.0526 - val_mean_absolute_error: 0.0409\n",
      "Epoch 77/100\n",
      "270/270 [==============================] - 3s 10ms/step - loss: 0.0414 - mean_absolute_error: 0.0297 - val_loss: 0.0652 - val_mean_absolute_error: 0.0537\n",
      "Epoch 78/100\n",
      "270/270 [==============================] - 3s 9ms/step - loss: 0.0419 - mean_absolute_error: 0.0304 - val_loss: 0.0251 - val_mean_absolute_error: 0.0134\n",
      "Epoch 79/100\n",
      "270/270 [==============================] - 2s 9ms/step - loss: 0.0440 - mean_absolute_error: 0.0323 - val_loss: 0.0461 - val_mean_absolute_error: 0.0344\n",
      "Epoch 80/100\n",
      "270/270 [==============================] - 2s 8ms/step - loss: 0.0431 - mean_absolute_error: 0.0313 - val_loss: 0.0370 - val_mean_absolute_error: 0.0249\n",
      "Epoch 81/100\n",
      "270/270 [==============================] - 2s 8ms/step - loss: 0.0408 - mean_absolute_error: 0.0288 - val_loss: 0.0406 - val_mean_absolute_error: 0.0288\n",
      "Epoch 82/100\n",
      "270/270 [==============================] - 2s 9ms/step - loss: 0.0423 - mean_absolute_error: 0.0305 - val_loss: 0.0715 - val_mean_absolute_error: 0.0598\n",
      "Epoch 83/100\n",
      "270/270 [==============================] - 2s 8ms/step - loss: 0.0434 - mean_absolute_error: 0.0317 - val_loss: 0.0427 - val_mean_absolute_error: 0.0311\n",
      "Epoch 84/100\n",
      "270/270 [==============================] - 2s 8ms/step - loss: 0.0408 - mean_absolute_error: 0.0293 - val_loss: 0.0887 - val_mean_absolute_error: 0.0773\n",
      "Epoch 85/100\n",
      "270/270 [==============================] - 2s 8ms/step - loss: 0.0433 - mean_absolute_error: 0.0317 - val_loss: 0.0576 - val_mean_absolute_error: 0.0461\n",
      "Epoch 86/100\n",
      "270/270 [==============================] - 2s 8ms/step - loss: 0.0428 - mean_absolute_error: 0.0313 - val_loss: 0.0410 - val_mean_absolute_error: 0.0290\n",
      "Epoch 87/100\n",
      "270/270 [==============================] - 2s 8ms/step - loss: 0.0404 - mean_absolute_error: 0.0284 - val_loss: 0.1133 - val_mean_absolute_error: 0.1017\n",
      "Epoch 88/100\n",
      "270/270 [==============================] - 2s 8ms/step - loss: 0.0439 - mean_absolute_error: 0.0325 - val_loss: 0.0314 - val_mean_absolute_error: 0.0204\n",
      "Epoch 89/100\n",
      "270/270 [==============================] - 2s 8ms/step - loss: 0.0396 - mean_absolute_error: 0.0288 - val_loss: 0.0862 - val_mean_absolute_error: 0.0757\n",
      "Epoch 90/100\n",
      "270/270 [==============================] - 2s 8ms/step - loss: 0.0414 - mean_absolute_error: 0.0309 - val_loss: 0.0343 - val_mean_absolute_error: 0.0241\n",
      "Epoch 91/100\n",
      "270/270 [==============================] - 2s 9ms/step - loss: 0.0421 - mean_absolute_error: 0.0318 - val_loss: 0.0372 - val_mean_absolute_error: 0.0270\n",
      "Epoch 92/100\n",
      "270/270 [==============================] - 3s 9ms/step - loss: 0.0399 - mean_absolute_error: 0.0298 - val_loss: 0.0222 - val_mean_absolute_error: 0.0122\n",
      "Epoch 93/100\n",
      "270/270 [==============================] - 2s 9ms/step - loss: 0.0392 - mean_absolute_error: 0.0292 - val_loss: 0.0307 - val_mean_absolute_error: 0.0202\n",
      "Epoch 94/100\n",
      "270/270 [==============================] - 3s 9ms/step - loss: 0.0388 - mean_absolute_error: 0.0283 - val_loss: 0.0384 - val_mean_absolute_error: 0.0281\n",
      "Epoch 95/100\n",
      "270/270 [==============================] - 2s 9ms/step - loss: 0.0386 - mean_absolute_error: 0.0284 - val_loss: 0.0468 - val_mean_absolute_error: 0.0363\n",
      "Epoch 96/100\n",
      "270/270 [==============================] - 2s 9ms/step - loss: 0.0372 - mean_absolute_error: 0.0267 - val_loss: 0.0478 - val_mean_absolute_error: 0.0371\n",
      "Epoch 97/100\n",
      "270/270 [==============================] - 2s 9ms/step - loss: 0.0412 - mean_absolute_error: 0.0307 - val_loss: 0.0210 - val_mean_absolute_error: 0.0108\n",
      "Epoch 98/100\n",
      "270/270 [==============================] - 2s 9ms/step - loss: 0.0371 - mean_absolute_error: 0.0270 - val_loss: 0.0574 - val_mean_absolute_error: 0.0468\n",
      "Epoch 99/100\n"
     ]
    },
    {
     "name": "stdout",
     "output_type": "stream",
     "text": [
      "270/270 [==============================] - 2s 9ms/step - loss: 0.0397 - mean_absolute_error: 0.0292 - val_loss: 0.0328 - val_mean_absolute_error: 0.0227\n",
      "Epoch 100/100\n",
      "270/270 [==============================] - 2s 9ms/step - loss: 0.0388 - mean_absolute_error: 0.0288 - val_loss: 0.0221 - val_mean_absolute_error: 0.0123\n"
     ]
    }
   ],
   "source": [
    "optimizer = keras.optimizers.Adam(lr=0.0005)  #could try .0005 to train longer\n",
    "\n",
    "kerasModel.compile(\n",
    "    optimizer=optimizer,\n",
    "    loss='mean_absolute_error',\n",
    "    metrics=['mean_absolute_error'],\n",
    ")\n",
    "\n",
    "history = kerasModel.fit(\n",
    "    X_train, y_train,\n",
    "    validation_data=(X_test, y_test),\n",
    "    batch_size=64,\n",
    "    epochs=100,\n",
    "    verbose=1,\n",
    ")"
   ]
  },
  {
   "cell_type": "code",
   "execution_count": 30,
   "metadata": {},
   "outputs": [
    {
     "name": "stdout",
     "output_type": "stream",
     "text": [
      "Minimum Validation Loss: 0.0094\n"
     ]
    },
    {
     "data": {
      "image/png": "[encoded data removed]",
      "text/plain": [
       "<Figure size 432x288 with 1 Axes>"
      ]
     },
     "metadata": {
      "needs_background": "light"
     },
     "output_type": "display_data"
    },
    {
     "data": {
      "image/png": "[encoded data removed]",
      "text/plain": [
       "<Figure size 432x288 with 1 Axes>"
      ]
     },
     "metadata": {
      "needs_background": "light"
     },
     "output_type": "display_data"
    }
   ],
   "source": [
    "history_df = pd.DataFrame(history.history)\n",
    "history_df.loc[:, ['loss', 'val_loss']].plot(title=\"Cross-entropy\")\n",
    "history_df.loc[:, ['mean_absolute_error', 'val_mean_absolute_error']].plot(title=\"MAE\")\n",
    "print(\"Minimum Validation Loss: {:0.4f}\".format(history_df['val_loss'].min()))"
   ]
  },
  {
   "cell_type": "code",
   "execution_count": 16,
   "metadata": {},
   "outputs": [],
   "source": [
    "#kerasModel.save('DeepModel1')"
   ]
  },
  {
   "cell_type": "code",
   "execution_count": 17,
   "metadata": {},
   "outputs": [],
   "source": [
    "#kerasModel = keras.models.load_model('DeepModel1')"
   ]
  },
  {
   "cell_type": "code",
   "execution_count": 18,
   "metadata": {},
   "outputs": [],
   "source": [
    "preds =kerasModel.predict(X)"
   ]
  },
  {
   "cell_type": "code",
   "execution_count": 19,
   "metadata": {},
   "outputs": [],
   "source": [
    "resid = pd.DataFrame()\n",
    "resid['target'] = df.price"
   ]
  },
  {
   "cell_type": "code",
   "execution_count": 20,
   "metadata": {},
   "outputs": [],
   "source": [
    "resid['preds'] = preds\n",
    "resid['resid'] = resid.target - resid.preds"
   ]
  },
  {
   "cell_type": "code",
   "execution_count": 21,
   "metadata": {},
   "outputs": [
    {
     "data": {
      "text/plain": [
       "0.0058760286047265095"
      ]
     },
     "execution_count": 21,
     "metadata": {},
     "output_type": "execute_result"
    }
   ],
   "source": [
    "resid.resid.mean()"
   ]
  },
  {
   "cell_type": "code",
   "execution_count": null,
   "metadata": {},
   "outputs": [],
   "source": []
  },
  {
   "cell_type": "code",
   "execution_count": 22,
   "metadata": {},
   "outputs": [],
   "source": [
    "resid.to_csv('KerasPreds')"
   ]
  },
  {
   "cell_type": "code",
   "execution_count": null,
   "metadata": {},
   "outputs": [],
   "source": []
  }
 ],
 "metadata": {
  "kernelspec": {
   "display_name": "Python 3",
   "language": "python",
   "name": "python3"
  },
  "language_info": {
   "codemirror_mode": {
    "name": "ipython",
    "version": 3
   },
   "file_extension": ".py",
   "mimetype": "text/x-python",
   "name": "python",
   "nbconvert_exporter": "python",
   "pygments_lexer": "ipython3",
   "version": "3.8.3"
  }
 },
 "nbformat": 4,
 "nbformat_minor": 4
}
