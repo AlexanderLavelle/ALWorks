{
  "nbformat": 4,
  "nbformat_minor": 5,
  "metadata": {
    "kernelspec": {
      "display_name": "Python 3",
      "language": "python",
      "name": "python3"
    },
    "language_info": {
      "codemirror_mode": {
        "name": "ipython",
        "version": 3
      },
      "file_extension": ".py",
      "mimetype": "text/x-python",
      "name": "python",
      "nbconvert_exporter": "python",
      "pygments_lexer": "ipython3",
      "version": "3.8.5"
    },
    "colab": {
      "name": "2 - Regression with TensorFlow 2",
      "provenance": [],
      "collapsed_sections": []
    }
  },
  "cells": [
    {
      "cell_type": "code",
      "source": [
        "#@title Apache 2.0 License\n",
        "# Copyright 2022 Datablooz, Luka Anicin\n",
        "#\n",
        "# Licensed under the Apache License, Version 2.0 (the \"License\");\n",
        "# you may not use this file except in compliance with the License.\n",
        "# You may obtain a copy of the License at\n",
        "#\n",
        "#     https://www.apache.org/licenses/LICENSE-2.0\n",
        "#\n",
        "# Unless required by applicable law or agreed to in writing, software\n",
        "# distributed under the License is distributed on an \"AS IS\" BASIS,\n",
        "# WITHOUT WARRANTIES OR CONDITIONS OF ANY KIND, either express or implied.\n",
        "# See the License for the specific language governing permissions and\n",
        "# limitations under the License."
      ],
      "metadata": {
        "cellView": "form",
        "id": "71AC3l46n71G"
      },
      "id": "71AC3l46n71G",
      "execution_count": 1,
      "outputs": []
    },
    {
      "cell_type": "markdown",
      "metadata": {
        "id": "hYTwOg-jqFna"
      },
      "source": [
        "# Regression with TensorFlow 2 (Keras)\n",
        "**🥳 The lesson goal**  \n",
        "This lesson will first introduce a real dataset for salary predictions. To solve that problem, we will build a Fully Connected Network using TensorFlow 2.x and use it to make predictions for new employees! \n",
        "\n",
        "**What is the outcome?**\n",
        "- Working with a simple external dataset\n",
        "- Creating and training a deep learning model for regression task\n",
        "\n",
        "**📝 Lesson Structure**  \n",
        "- Dataset\n",
        "    - Loading a dataset\n",
        "    - Preprocessing\n",
        "- Modeling\n",
        "    - Defining\n",
        "    - Compiling\n",
        "    - Training\n",
        "    - Predicting with the trained model\n",
        "\n",
        "**📊 Dataset source:**\n",
        "\n",
        "The dataset that we are using in this lesson originated from [kaggle](https://www.kaggle.com/rohankayan/years-of-experience-and-salary-dataset)"
      ],
      "id": "hYTwOg-jqFna"
    },
    {
      "cell_type": "markdown",
      "metadata": {
        "id": "hJ-KhOG7qFne"
      },
      "source": [
        "# Dataset\n",
        "\n",
        "The dataset consists of two columns - `years_of_experience` and `salary` (in thousands of $). Our goal is to predict a salary based on the input variable (years of experience). This is a common problem to see in the wild, but the datasets will generally be more complex and dirty.\n",
        "\n",
        "![image.png](data:image/png;base64,iVBORw0KGgoAAAANSUhEUgAAAXAAAADuCAYAAAAgAly4AAAgAElEQVR4Ae2a/Wsa3db+n/80P9SAFlSUwSIJQZCAtIQWSRBBC7fCsRAfbirUQCLcEUSoJwlNQ2xpkAZJToh5nt4J5wz0O8hzfdmj82Z8XVEzoysQMi97r732Z651ZbvH/0Kfn//5n//tc5UvMQH7E2Dt2v8ZcYb9CVC0+1/9QlEC9YvD15jAvAmwdudNnMebFgGKdtnAp0Wf49iCAKUIbJE4J7H0BCjaZQNfetksFgBKESwWAZ6NUwlQtMsG7tSnzXn3JUApgr6B+CITmDMBinYHGrgIxr/MgDXAGmANzE8Dk/7PGGjgkwbi9kzADgSE2fAPE3AiAYp22cCd+KQ554EEKEUwMBjfYAJzJEDRLhv4HB8QDzV7ApQimH1WPAITGE2Aol028NFcuYWDCFCKwEHT41QXmABFu2zgCyyIZZwapQiWkRPP2X4EKNplA7ffc+SMnkCAUgRPGI67MoGpEaBolw18avg5kB0IUIrADnlzDkyAol02cNbNQhGgFMFCAeDJOJYARbts4I593Jx4PwKUIugXh68xgXkToGiXDXzeT4nHmykBShHMNCEOzgTGJEDRLhv4mHC5mTMIUIrAGTPjLBedAEW7bOCLroolmx+lCJYMEU/XpgQo2p2Ngf9qoN54mBxTW0Hr+Dtak/fkHkxAJUApArXjfRPV3TQyqTQK5SbkHp7ytwPkU2lksge4vDffFJotdu8VUb8z3zMdNw6RSR3i2nQJtycoZcWYOZS+DOpo7mAcyz8rKIh8Unmc3irGDXFkilv+RqhDazQ+mxMBinanaOAKWv8sIr3hhWvVjWjhZvxp/2qgnH2N8Es3XC+SqI/fk1syAQsBShHg9xky/nVkyg20br9jLxZA9JOhX+VLGj7/NsqNJi73t+Hzp1H/3Rm29WkTvlge9eYDrqtJhE339MTaDRReubFi1vZNEVH/axSOm5CbNWReBZD50mPEeoCeg/Osmk+1+YDWeRHx4CZKWrq/DrHl3kTh/K4TNxwaP27PMHw6XwIU7U7RwO9w+ukAF1cKWoXIZAb+4xB7nxu4V06QMYt8vvx4tAUgQCkCfM1BStag2+dxEitrRf2T4OmOG4mKdlfBUVw7v0N5axOlpgbuBqU1NzLH2nnn7/WHdURTSURN2r4vvUWsoHdUa2YlcWLtOOCsntDG7zQQ9SZ9aKgn5mP1wnESrncVY24DYvLl5ydA0e4UDdwAMLGB613ZwHUUfEAiQCmC3oFaf0bgeX/WvXyHUsRqygP1LdeQ9m6i/MsU8eojomsf0boqWgzc1AKAjNOdAGL742x39PyTaB4gHnRDM39h7vqn3/sz5Ne8ln9G1nH5zE4EKNplA7fTE+RcnkyAUgTaoBfZEKSgF65XOVx2t0jEvYs/Agh3V7ho36iGrpukaHB7iLgUgs/tRfwv0152+wZ7axHsXQEQWyamFXhnTLGCD0Hye+HZOsR9W8tk2F/NwBW0ykmE17Kol5KPDFz+lkdMeotyVfwDMT5NDIvM956XAEW7bODP+8x49CkToBSBJQX5DvX36/ClzoxtB/kEmaAXnqAw+AjisRCin0xGLQK0FciNIrb8xn50q7CJDc34+xp4Z2Tl3w2UevbdLTlZTjoG7guGsJGqdUxfbPl0t1/EClzkGX5TxKV4EyvGZQO3ELTrCUW7bOB2fZqcF4kApQjwW4Ysa3vcXdNbTT96ma78W4bSllF9E0DuXKSnQLkX14xU1S0M1dzPkFntmKkkdVf2L7zwiVXxrdg1eYBsWuVDmHCkCMsXXIywpqMHVGNuxPaMfyBKZVs3cPFpQUqdGd+iaeQhsYGb+Nn3kKLduRu4/OMAhbL2yrwXJu+B9xLh88kIUIpAmKdL7FN3jVj+nIQnevDYTJUHXBTeQopoWxJiNRxA+nP3S4fqlkkAua99cu5ZgYt9dM9OTTda67671l/G5X4eR2ILxvRzvbsOn75HL+PonReJaucfkFLdhit2oG/HiBeo4V3jZakpDB/ajABFu3M2cAXijf6KP4fLvvDYwPti4YtjE6AUgXiJeJGNwPMyBEkKwBN8i2qPaYqV9Yo7gFjiENemxTquDhEPipV1CNJLLzayptWvOeseAxd76dWtEDz+zurcs5bDRe+Xz5Ua0qtu+LKdb5jo4bp9xTaK2D+Xdiq6YWtz8Wlxo/nOVoremQ/sSoCi3ZkY+EhApo+cI9tyAyYwAQFKERjhFSjmbQ3jxuij32ZXH91cb9FWoAzrOqxWFMWyfaPHFAej4loa84kdCFC0+zwGbgdanMNCEqAUwUKC4Ek5jgBFu2zgjnvMnPAwApQiGBaP7zGBeRGgaJcNfF5Ph8eZCwFKEcwlMR6ECYwgQNEuG/gIqHzbWQQoReCsGXK2i0qAol028EVVw5LOi1IES4qKp20zAhTtsoHb7CFyOk8jQCmCp43IvZnAdAhQtMsGPh32HMUmBChFYJPUOY0lJ0DRLhv4kotm0aZPKYJFY8DzcSYBinbZwJ35rDnrAQQoRTAgFF9mAnMlQNEuG/hcHxEPNmsClCKYdU4cnwmMQ4Ci3YEGLoLxLzNgDbAGWAPz08A4Rm9uM9DAzY34mAk4hYAwG/5hAk4kQNEuG7gTnzTnPJAApQgGBuMbTGCOBCjaZQOf4wPioWZPgFIEs8+KR2ACowlQtMsGPport3AQAUoROGh6nOoCE6Bolw18gQWxjFOjFMEycuI5248ARbts4PZ7jpzREwhQiuAJw3FXJjA1AhTtsoFPDT8HsgMBShHYIW/OgQlQtMsGzrpZKAKUIlgoADwZxxKgaJcN3LGPmxPvR4BSBP3i8DUmMG8CFO2ygc/7KfF4MyVAKYKZJsTBmcCYBCjaZQMfEy43cwYBShE4Y2ac5aIToGiXDXzRVbFk86MUwZIh4unalABFu7Mx8F8N1BsPE2BS0DouIp9KI5Mton43QVduygRMBChFYOoO4AGnu2nsfXmsX+XqO07386j+NPdQ0KrmkVG1e4DLe/M9ALcnKGXTyKRyKH/rifnzsNNP9FV/D3Hd033QqfyzgoLaJ4/TW8XabNiY1pZ8ZiMCFO1O0cAVtP5ZRHrDC9eqG9HCzdhoWp824YvlUW8+4LqaRNifRv332N25IRPQCVCKQO8MQK5sw/WiV78y6qkQXMHXyBUquPxl9LjeXYcUP8Dl7R0u97fhM2v31yG23JsonN9BbtaQCYeQ+WKY7f2nTXgi2yYTH9PAz7Pw+bdRbT6gdV5EPLiJklZuI8Y0MucjuxGgaHeKBn6H008HuLhS0CpEJjDwO5S3NlFqajhvUFpzI3OsnfNfJjA+AUoR6NHlChLBNDLvrAauHCfhWfuIVltv2T04Q2Z1HXtX2vUHVGOGdkUdSB8a2k3gOAnXuwo0C5+sToww9YQbiYoWBWq9aeOMGtOIwkd2I0DR7hQN3MBBFaYaQa4h7d1E2bTKMSLzERMYToBSBJ2IMk531pH+/B8IgzR/gqyn3EiUmqgXcp0tvt4tCz2lBgrSOva6ixFLnPsz5Ne8WFkrotVtL+5v7R6qWyH5wglahifrER8f9CxwmgeIB91YSZyoTUeN+TgeX7ELAYp27WPgt4eISyH43F7E/+JNcLuIyml5UIpAzFH+nER4p4b/AD0G3jFMV/At9so1nO6nseF+jWqfBUarsAkpcQK5C00zU/lbHjHpLcrVj4jqBq7gNBVCdKeI6ucK9t4E4IoY5j6Yu2bgClrlJMJrWdRLyUcG3n/MwVH5zvMToGjXPgYu+LUVyI0itvymPb3n58oZOIgApQggnyAT3MZR13k14+1Mu2OY6c8GhIv3AUQ/WRcZ4h+AJAzYtM0i4niCIYTfFHEpYt8UTQZuxFOP2g3kpRAKph2Xnhbd004+vmAIG6ka7sV4x1YDH3vM/gPw1WciQNGuDQxcgXIvQ+kRfm+BPBNTHtZhBChFIF4mrrgDkKSQ+utzu+F6GYKUPVO/lWLe1xY4ercI5eMkfP4k6trSu8vs4o8ApNSZviJHIw/JtAIXujd+tJW1caX/UWefPbZn/ANRKtv6Cnz4mP0j8lV7EKBod+4GLv84QKGsvTIX4IRwA0h/7oq5fYO9tQByX+0BlbNwFgFKEfTO0LoCB+73N+HZqXWMWNWn8aISV0VEg4/NW8RUqttwxQ46q2QA1x/WEd7V3tY3sfdq3Vhxixeoq69RtXwNUcblfh5H+kvSTqbimy++9+Kfi/iRcfTOi0S1s4E+fMxuF/5jSwIU7c7ZwBWc7rix4s/h0ozw6hDxoBc+sQJ66cVG1rRqMbfjYyYwggClCHpD9ho42jeoboXg8ffq8w6lSHe13l29q6t4deUuosq4yEbgE/2CXnii+c5WSndA+UceW/7Oyt/3MoS4/l3AbgOlhvSqG75sz75KNx+xjSL5vZB2Kvo/iVFj9s6Vz+1DgKLdmRj4SCSm7RJL299jvYa3dOETJmAmQCkCc/+hx4pi2eob2tZ8s61AGSbtYbofVCsi/rB8Ro1pzo+PbUGAot3nMXBb4OIkFpEApQgWkQPPyXkEKNplA3fec+aMhxCgFMGQcHyLCcyNAEW7bOBzezw80DwIUIpgHnnxGExgFAGKdtnAR1Hl+44iQCkCR02Qk11YAhTtsoEvrByWc2KUIlhOUjxruxGgaJcN3G5PkfN5EgFKETxpQO7MBKZEgKJdNvApwecw9iBAKQJ7ZM5ZLDsBinbZwJddNQs2f0oRLBgCno5DCVC0ywbu0IfNafcnQCmC/pH4KhOYLwGKdtnA5/uMeLQZE6AUwYxT4vBMYCwCFO0ONHARjH+ZAWuANcAamJ8GxnJ6U6OBBm5qw4dMwDEEhNnwDxNwIgGKdtnAnfikOeeBBChFMDAY32ACcyRA0S4b+BwfEA81ewKUIph9VjwCExhNgKJdNvDRXLmFgwhQisBB0+NUF5gARbts4AssiGWcGqUIlpETz9l+BCjaZQO333PkjJ5AgFIETxiOuzKBqRGgaJcNfGr4OZAdCFCKwA55cw5MgKJdNnDWzUIRoBTBQgHgyTiWAEW7bOCOfdyceD8ClCLoF4evMYF5E6Bolw183k+Jx5spAUoRzDQhDs4ExiRA0S4b+JhwuZkzCFCKwBkz4ywXnQBFu2zgi66KJZsfpQiWDBFP16YEKNqdjYH/aqDeeJgI0/VfaWRSpt+/mhP158ZMQBCgFIFK7r6J6m5Hf4VyE7KOs4mqWZfa8X+fQcYD6v9t0qx2L3WIa7W/gtZxEXlxPVtE/U4PajlQrk5wcWO5NPJE/llBQR0vj9Nbxdr+9gSlrMgrh/K3yerQGojP5kmAot0pGriC1j+LSG944Vp1I1qYRJF3KEUCiMZNxcAGPk/tLMxYlCLA7zNk/OvIlBto3X7HXiyA6CdNvw+4/FzDqem3FA8gvCsWGApaX633jrKbcMVrEJba+rQJXyyPevMB19Ukwv406r811A+43M9hS+rUS+ZYuz7G3/MsfP5tVJsPaJ0XEQ9uoqSl++sQW+5NFM7vIDdryIRDyHzpMfgxhuAm8ydA0e4UDfwOp58OcHGloFWITGjgNyitRQwRzp8dj7ggBChFgK85SMmO6aoYjpNYWSui1ZdJE3uvNlH+1e+mgqN4ALmv4t4dylubKOkfJIXG3TCMuoHqbg2XvxTUE+br/eJar4n2iYphyqLepA8NtZH5WL1wnITrXUX9h2KNwmd2I0DR7hQN3MAxuYGfIPPiNQqlvPqxr3Q84LOmMQQfMYG+BChF0Buo9WcEnvdnvZfVc6W6ra+wHzVo5hF+le9un/TclWtIe/sb/2QG3vOPoHmAeNCNlcSJOqCIpX/6vT9Dfs075J9RT458+qwEKNq1h4ErJ8gFI0gXKjgt5xH3u00fYZ+VKQ/uMAKUItCmeJENQQp64XqVw6W+1aHdFX8fUI6uY09fVZvvARfvA0hUjZWxevf2EHEpBJ/bi/hf/RcmNANX0ConEV7Lol5KPjJw+VseMektytWPiA78NGHNn8+elwBFu/Yw8F5uP3KQpAErmd62fM4ETAQoRWDqDsh3qL9fhy919njb4WsWnugB7i0duie/DhDzZnHR7nOzrUBuFLHlN+1Vm5pRDNwXDGEjVcPfYjyx5WNagXuCIYTfFHEp3sTeFNnATaztfEjRrj0MXJEhy6aVixDdiyTqdqbNudmSAKUI8LuP/lbTPfp7QDUWQObYpFMTgYs/AsbWhXpdgXIvQzEZurq98enxKnwyAxd5uBHbM+IolW3dwEUeUkp8Q6b708hD4hW4RsPWfynanbuByz8OUChrr8y7PLW9w67Y5co2XLFDQ4S2xs7J2YkApQjECta19hEtTX+fk49X2ppG+032dw0J9zaOLNsuYq86gPTnrpW2b7C3pr3gtAYZbOAyLvfzOLqytr/eXYdP36OXcfTOq2/dqHv0sQPcd+dy/WG9+40Zaww+sx8BinbnbOAKTnfcWPHncGnhJ+Ny9zV8/hAkKQBP8C2qPaK1NOcTJjCAAKUIABkX2Qg8LwfpT5ikG7H9/t+pFibZ96Xn1SHiQS98UgjSSy82sqaVsSn/gQau1JBedcOX7XzDRO/SvkF1KwSxjSL5vZB2Krpha3NRaynohSea72yl6J35wK4EKNqdiYGPBGT6WGltq0CxrGKsd/mMCYwiQCkCI+aM9Pe7/7aLMe6Qo4G1Ir6Grli2aCxR2oq4zT8OIkDR7vMYuIOgcqrOIkApAmfNkLNdVAIU7bKBL6oalnRelCJYUlQ8bZsRoGiXDdxmD5HTeRoBShE8bUTuzQSmQ4CiXTbw6bDnKDYhQCkCm6TOaSw5AYp22cCXXDSLNn1KESwaA56PMwlQtMsG7sxnzVkPIEApggGh+DITmCsBinbZwOf6iHiwWROgFMGsc+L4TGAcAhTtsoGPQ5bbOIYApQgcMzlOdKEJULTLBr7Qkli+yVGKYPko8YztSICiXTZwOz5JzolMgFIE5MG4IxOYIgGKdgcauAjGv8yANcAaYA3MTwOT/j8YaOCTBuL2TMAOBITZ8A8TcCIBinbZwJ34pDnngQQoRTAwGN9gAnMkQNEuG/gcHxAPNXsClCKYfVY8AhMYTYCiXTbw0Vy5hYMIUIrAQdPjVBeYAEW7bOALLIhlnBqlCJaRE8/ZfgQo2mUDt99z5IyeQIBSBE8YjrsygakRoGiXDXxq+DmQHQhQisAOeXMOTICiXTZw1s1CEaAUwUIB4Mk4lgBFu2zgjn3cnHg/ApQi6BeHrzGBeROgaJcNfN5PicebKQFKEcw0IQ7OBMYkQNEuG/iYcLmZMwhQisAZM+MsF50ARbts4IuuiiWbH6UIlgwRT9emBCjana6B339HOZtGJpVGoXo3GabbE5TUvjmUvz1M1pdbM4EuAUoRWOE94HQ3jb0vJg22H3Bdzqu6zuxWcC1be1z/1dG80L36+1ez20BBq9rtlz3A5b21H34edtpr/VKHuO5pMuhU/llBQe2Xx+mtYm3GtWTl4ZAzinanZ+ByDYmXm8gfNyE3T5CPeBH9dDMeul+H2HJvonB+B7lZQyYcQuZLjyjHi8StlpwApQjMyOTKNlwv3IgWNO0qqKcCCCcquLy9w8Wfr+GLFNHSO92hFAkgGjeZeNfAr3fXIcUP1H6X+9vw+dOo/9Y74v7TJjyRbZOJj2ng51n4/NuoNh/QOi8iHtxESUuXa8kA7LAjinanZuBCjCs7NQPZeRaeNbPQjVu9R61CBNKHhnH5OAnXuwrYwg0kfDQeAUoR6JHlChLBNDLvzAZ+hryUxqluvCfIuCKGYeIGpTXzuRbtDJnVdexdaecPqMbcyBxr54DQvfGPwrg+6qiecCNRMarDXD/mYzUO19IonLa5T9Hu1Ay8l4IiVjLx2lgmLASpC/n+DPk1L1bGNP/ecfl8uQlQiqBDTMbpzjrSn/8Dix57cV59RNSbxUVbu3GCzIvXKJTEVkkOpeNBW4cNFKR17Gm7K4A6ztbuoboVki+coGV4sha8z1/xD8P0j6B5gHjQjZXEidrWkjvXUh9+9r1E0e5sDFw+QUZ8rNNXH8OhaaKTv+URk96iXP2IKBv4cGh8ty8BShGIQPLnJMI7Nfyna6z6gkIb5WsOkhSCZ3Ud+W//T7sKKCfIBSNIFyo4LecR97v7bh22CpuQEicwts8VnKZCiO4UUf1cwd6bAFyWrRljCOuRZuAKWuUkwmtZ1EvJRwbOtWSl5oQzinanb+BKE3uREDLHhlRHwRMG7gmGEH5TxKXodlNkAx8Fje/3JUApAqgLjm0cdSWrLSgeDaDIaB1nEe7Zy7a0+yGMPm95GSn+OUjCnPVVu6VH56TdQF4KoWDaSezTShSHugL3BUPYSNXwt4h5bDVwrqX+5Ox+laLd6Rp4+wYl8fKy8K+JWF38EYCUOjNWJ408JF6BT8SQG3cIUIpAfX/jDqgrbLHK9rndcL0MQcqeAW0F8r15MXKD0robmS9d4ooMWTbtfYjFx4sk6t3b8nESPn8SdXMI9Z4CpTeueWuk2//xn85eemzP2KoR25XaFgrX0mNiTrlC0e4UDVxGPREy9rIHUJN/HKBQ1l6Zdxop1W24Yge4765Qrj+sI7xr2iwcEIsvM4FeApQi6I1hWYG3T5BZjRgvI+Ua0r5NlH91ezXzCL/K47qrXfVbLLHDzmLkqohosJ95i75N7L1aN1bc4gXq6mtULV81lHG5n8dRz1ak+HaL7/1ZNwEZR++8SFQ7/0S4lnqfpnPOKdqdnoF/ScP1wgufFNJXMpLYz741A1RwuuPGij+HS/NlyLjIRuDzhyAFvfBE852tFEsbPmECowlQiqA3qsXAxf741xw2XnpVXftehhDXv7Mnesq43H3d0a4UgCf4FlXVcMXXC7sreXNNiFV990f+kceWv7PyfxwXgFJDetUNX7ZnX6V9g+pWCGIbRfJ7Ie1U9MWPyIdrSSPsrL8U7U7PwCdhNWgvsK1AMX0anSQkt2UCggClCMYm93uYOBUo+lcNx47YaTgs7qBaET0VBcqg+1xLEz6E529O0e7zGPjzs+IMFpQApQgWFAVPy2EEKNplA3fYQ+Z0hxOgFMHwiHyXCcyHAEW7bODzeTY8ypwIUIpgTqnxMExgKAGKdtnAhyLlm04jQCkCp82R811MAhTtsoEvphaWdlaUIlhaWDxxWxGgaJcN3FaPkJN5KgFKETx1TO7PBKZBgKJdNvBpkOcYtiFAKQLbJM+JLDUBinbZwJdaMos3eUoRLB4FnpETCVC0ywbuxCfNOQ8kQCmCgcH4BhOYIwGKdtnA5/iAeKjZE6AUweyz4hGYwGgCFO0ONHARjH+ZAWuANcAamJ8GRtu8tcVAA7c24zMm4AwCwmz4hwk4kQBFu2zgTnzSnPNAApQiGBiMbzCBORKgaJcNfI4PiIeaPQFKEcw+Kx6BCYwmQNEuG/hortzCQQQoReCg6XGqC0yAol028AUWxDJOjVIEy8iJ52w/AhTtsoHb7zlyRk8gQCmCJwzHXZnA1AhQtMsGPjX8HMgOBChFYIe8OQcmQNEuGzjrZqEIUIpgoQDwZBxLgKJdNnDHPm5OvB8BShH0i8PXmMC8CVC0ywY+76fE482UAKUIZpoQB2cCYxKgaJcNfEy43MwZBChF4IyZcZaLToCiXTbwRVfFks2PUgRLhoina1MCFO1O18Dvv6OcTSOTSqNQvZsAk4JWNa/2y2QPcHk/QVduygRMBChFoHa/b6K629VuuQnZFFMcyt8OkE+l0Vefet8cSsc9ur+toSD6pfI4vVV6onZOlasTXNz0vTXwovyzMjju7QlKah3mUP72MDAG37AXAYp2p2fgcg2Jl5vIHzchN0+Qj3gR/TSeKq931yHFD3B5e4fL/W34/GnUf9sLLmfjDAKUIsDvM2T868iUG2jdfsdeLGDRrvIlDZ9/G+VG87E+29+R8weQ2G+g1dX9VqlrmjdFRN2dmrg+zqnHJb0kHnC5n8OW5IVr1Y3M8QR8z7NqPtXmA1rnRcSDm9Dj/jrElnsThfM7yM0aMuEQMl/6/+OYYERuOgcCFO1OzcDvP21iZadmTPM8C89aES3jyoCjM2RW17F3pd1+QDU2oaC1rvx36QlQigBfc5CSNeg2d5zEikm7pztuJCraXQVHcY9xLnQe/mjo/HMSK7FDdQXf+nMd0oeG/kzUhYp+3kB1t4bLXwrqicn0Ltob+QCtQkQfx3ysDnychOtdxZibng0f2I0ARbtTM/BeGEplG664qSh6Gww8b6AgrWOvObAB32ACAwlQiqA3WOvPCDzvz7qX71CKWA1WmGS00F1K3x8i7t7GUXfP5frDOnzZjmnXU26jnYgm/jEkTnqHm9DAb1BaM+XTPEA86NbjCnM3cjtDfs1r+Wf0aHC+YBsCFO3OxsDlE2TExzp9VT0+o1ZhE1Li5NEe5PgRuOUyE6AUgcbrIhuCFPTC9SqHS9MW3sUfAYS1lXP7RjV03STF/vg/k/CteiH5vVjZ+IhWuxNRLr1WV78db5dRTwR0o9XGFH8nW4FrBq6gVU4ivJZFvWT8Y9AMXP6WR0x6i3L1I6KmTxPmcfnYXgQo2p2+gStN7EVCyBz3vgYaDUv+nIQUKeoFMLoHt2ACVgKUIrBEkO9Qf78OX+rM2HZQFyReeILC4COIx0KIfuq+rBR7zv5tVK8UQHnAxT8i8P3xvRNSmH3UC5df9FtH/E0ErpS2sjdGpRi4LxjCRqqGv8U/C9PKXsQSeYbfFHEpSlDsw7OBG7BtfETR7nQNXF2deBEt/GtiTPJxEj5/EvXJfX/isbjD4hKgFAF+y5BlbY+7a3qradR7MCn/lqG0ZVTfBJA779xU3/2Yt0WEYfb2lR+gKMDlP0LQX3CaYk9m4J13RLE949suYrtS25oRnxak1JnxCbaRh8QGbqJt30OKdqdo4OIjYsjYfxvASf5xgEJZfxXfaXVVRDTI5j0AGeM7S/QAAA+5SURBVF+egAClCMQK1rVm2vr4nIQneoBH32YVK+zC286nRC2nfn17DbMtviabxkaw/7erBhu4jMv9PI56tiLFy1Cfvkcv4+idF4lq5x+QUt2GK3aA++42jtiTD+/yCyXtcdn5L0W70zPwL2m4Xnjhk0KQ9N+3KN+akSkQb/RX/Dlc6pc7L4lcL839QpCyjz9q6l34gAkMIEApAkDGRTYCj6rBADzBt6j2mKYw2RV3ALHEIa5Ni/VRfcULz5VVL8KxPOqP/iN0JjHQwJUa0qtu/aWoPuX2DapbIYhtFLHvLu1UdMPW8vGp2zZeeKL5zlaK3pkP7EqAot3pGfgkVLqrg0m6cFsmMA4BShEYcRUoppeXxvVxjp7Sd0j8YbWiKFAG3W8r6rbNkMh8y2YEKNp9HgO3GThOZ3EIUIpgcWbPM3EyAYp22cCd/MQ590cEKEXwKAhfYALPQICiXTbwZ3hQPOTsCFCKYHbZcGQmMD4BinbZwMfnyy0dQIBSBA6YFqe4BAQo2mUDXwJhLNMUKUWwTHx4rvYlQNEuG7h9nydnRiBAKQLCMNyFCUydAEW7bOBTfwwc8DkJUIrgOfPlsZmARoCiXTZwjR7/XQgClCJYiInzJBxPgKJdNnDHP3aegJkApQjM/fmYCTwXAYp22cCf62nxuDMhQCmCmSTCQZnAhAQo2h1o4CIY/zID1gBrgDUwPw1M6PkYaOCTBuL2TMAOBITZ8A8TcCIBinbZwJ34pDnngQQoRTAwGN9gAnMkQNEuG/gcHxAPNXsClCKYfVY8AhMYTYCiXTbw0Vy5hYMIUIrAQdPjVBeYAEW7bOALLIhlnBqlCJaRE8/ZfgQo2mUDt99z5IyeQIBSBE8YjrsygakRoGiXDXxq+DmQHQhQisAOeXMOTICiXTZw1s1CEaAUwUIB4Mk4lgBFu2zgjn3cnHg/ApQi6BeHrzGBeROgaJcNfN5PicebKQFKEcw0IQ7OBMYkQNEuG/iYcLmZMwhQisAZM+MsF50ARbts4IuuiiWbH6UIlgwRT9emBCjana6B339HOZtGJpVGoXo3GabbGgop0TeP01tlsr7cmgl0CVCKQO16f4Y9VX8d/WZSH1G/t2JVrr7jdD+P6k/rdfXsVwP1chGlLw99bgJoHCKTOsS1+a6u+RzK3wb0M7c3Hcs/K4Pr5fYEJbUOJ49rGoIP50yAot3pGbhcQ+LlJvLHTcjNE+QjXkQ/3YyH4KaIqLvT9/o4px6Xxuw63gDcalkIUIpAZfMlDder1+riQyxArAYuo54KwRV8jVyhgstfVpqtT5twuSNI7B6gftVn8dFuoPDKjZUXSdS1ro08NoLbKDfu0GocIOEPIPOlT1+tvfnveRY+/zaqzQe0zouIBzeh18uvQ2y5N1E4v4PcrCETDo0f1zwGH8+dAEW7UzPw+0+bWNmpGZM+z8KzVkTLuDLwqPXnOqQPDf3+9a71XL/BB0xgBAFKEaghj5NYSZzg//rEV46T8Kx9RKvd56ZYfHiTOJX73Oteuv6wjmgqiajJwOspDzb+NFYpcum1Ov7gKMadesKNRMUw+1YhoteP+VjtcZyE610FRmsjDh/ZiwBFu1Mz8F4USmUbrnhtLOHUU25EC4aY0S2m3ph8zgRGEaAUgYgpjC+cLHa2HnYruDZtnwh9JkpN1As5ZLJF1E1bfGLhIv3jBNflvLr9V/3ZsxVy9RFRYf5XRYuB987j+kMI4d1m7+U+5zcorbmROe7eah4gHnTr5i/MXa+l+zPk17xYGXMh1WcwvjRHAhTtzsbA5RNkxMe6q/FmL1YfYpXQWcTIqCcCuiDHi8CtmECHAKUIRE+xDRLezKH8uYZyah0ufxr13+JOxzBdwbfYK9dwup/Ghvs1qt1tFGGYYvsks1/DaTmPuD+A3Hn3abRvsLcWwZ6oA7FSN63Auy06f4S5B5OoD1nFG+01A1fQKicRXsuiXup8ehBtNAOXv+URk96iXBX/QMb7JGyMwUfPQYCi3ekbuNLEXiSEzPFYauxwat+gFPXC5Q9BCq4j/iYCV+rsORjymA4nQCmCx1OWUX2jbVN0DDP92Wh18T6I6KfOS3phmOatkPv9TV27rcImNrStwUEGfl+baLGj/UPxBUPYSNXwt9jWMX1iFfl4giGE3xRxKUpQjMsGbjw8Gx9RtDtdAxdGLF5eFv5FwyQ/QFGAy3+EsFXq+ShKi8i9lowApQgEIuXfMhTTHre2kgUeUI2Ztiy62y3aNsXFHwFjy0IE0s30DJnVjplKkliYeOF64YVPrIpvuw9FfFIVLy8nWex084ntGd/yEtuVYv9e/Ih8pNRZ99Os+PZLHhIbeBe4vf9QtDtFAxdbHyGrmPvwkn8coFA27Xeb27QVtKppbAS1j6/mm3zMBEYToBQBoOAo7kWi0v3UqH5rxNgKEatqz06tY4rqtojJ0L+Kl/XaC04Zpzs9hq6l3LsCVxc7oz6pyrjcz+OoZytSvOT3vdc+oco4eudFotp5TalUt+GKHeC++89IvEAdb29dS5T/PhcBinanZ+Dia1jqCiMEdcUhVh3m1YZKRcHpjhsr/hwueyiJl0grq16EY/lH37/tacqnTGAgAUoRqMHuKkhLAfiEbl96sZE1rWLbN6huheARW3y99yDjIhuB52UIkt8Laetw8LdVTHvg6re2Vr2mWhH1ksOFeWZKDelVN3xZ4xta6u1uPmIbRR1zp6IbNrr5+NTtSC880XxnK8Ucl49tSYCi3ekZ+CRITB9VJ+nGbZnAKAKUIrDE/D3kC3eKYtlmsfRrK+r2n+XaNE6G1cpz5DONOXGMvgQo2n0eA++bPl9kAk8nQCmCp4/KEZjA0wlQtMsG/nTuHMFGBChFYKP0OZUlJkDRLhv4EgtmEadOKYJF5MBzch4BinbZwJ33nDnjIQQoRTAkHN9iAnMjQNEuG/jcHg8PNA8ClCKYR148BhMYRYCiXTbwUVT5vqMIUIrAURPkZBeWAEW7bOALK4flnBilCJaTFM/abgQo2mUDt9tT5HyeRIBSBE8akDszgSkRoGiXDXxK8DmMPQhQisAemXMWy06Aol028GVXzYLNn1IEC4aAp+NQAhTtDjRwEYx/mQFrgDXAGpifBib93zPQwCcNxO2ZgB0ICLPhHybgRAIU7bKBO/FJc84DCVCKYGAwvsEE5kiAol028Dk+IB5q9gQoRTD7rHgEJjCaAEW7bOCjuXILBxGgFIGDpsepLjABinbZwBdYEMs4NUoRLCMnnrP9CFC0ywZuv+fIGT2BAKUInjAcd2UCUyNA0S4b+NTwcyA7EKAUgR3y5hyYAEW7bOCsm4UiQCmChQLAk3EsAYp22cAd+7g58X4EKEXQLw5fYwLzJkDRLhv4vJ8SjzdTApQimGlCHJwJjEmAol028DHhcjNnEKAUgTNmxlkuOgGKdtnAF10VSzY/ShEsGSKerk0JULQ7XQO/b6K6m0YmlUah3IQ8CajbE5Syom8O5W8Pk/TktkxAJ0ApAr1zW0HrvIby7iGu9YudA/lnBYWU0Gcep7dKz10Aou/xd7R67lz/1akHURPq719No4Vyh3ohp17P73+H3DZujToamg/X0ih8trxP0e70DPz3GTL+dWTKDbRuv2MvFkD00814oH4dYsu9icL5HeRmDZlwCJkvfYpkvGjcaokJUIpAxSWfIBP0QtpMo1Ru4N7M8DwLn38b1eYDWudFxIObKGnS/tVAOfsa4ZduuF4kUTf3wx1KkQCicZOJ6wb+gGrMi+iH72jdN3GaWoeUOsNYqh+aD9eS5RE46ISi3ekZ+NccpGTNEOBxEitrxUcrkn48W4UIpA8N49ZxEq53FSOWcYePmMBQApQiABTUEwFE/9Rc2TpEPeFGomJYq0WvPw6x97mBe+UEmUcGfoPSWsQwe3PYmyKiUt5Y6bdPkFndxtFvc6P+x8PyseQmunMt9Ydow6sU7U7PwHuAtP6MwPP+rOdq/1MhyGihWzz3Z8ivecc2//4R+eqyEqAUAXCmmmf1Z2cbL184QUv3a2HCbmSOu0SbB4gH3VhJnPQg7mfg4tprFEp5dWuwdHxn9DEvcNoPqGcjcL0YYPZGLwDD8+FassBy1AlFu1M38ItsCFLQC9erHC7HWE0Iwpro5G95xKS3KFc/Ijrm6t1RT4iTnTkBShFArIZfuCFt5VH9XEM5tQ5X7LC7jaIZpoJWOYnwWhb1UnI8A1dOkAtGkC5UcFrOI+53G9uKmoHff8deNIT4fg17g1brFmrD8+FassBy1AlFu1M3cJWYfIf6+3X4xtzTE6LzBEMIvyniUrz5FAXFBu4o8dklWUoRdAw8iVPtJWL7DDnvJkq3YlYdw/QFQ9hI1XAv2gjzHWsF3kPlRw6Stm0iYnhDkKS3KP1QRT94u8USxprP3z35cC1ZYDnqhKLd6Rn4bxmyrH/u7JjwarrnpU5/nhd/BNQXOPq3Vhp5SGzg/WHx1aEEKEWA+0NsWfavhUlq2xniZaMbsT1j+0OpbI9n4EqfmtDGOc/CI6VRN0SPgqSNOWyKw/PhWhrGzt73KNqdnoGLlyVrH9HqrmLkz0l4ogfWt/kA5B8HKJStL4uU6jZcsYPO6gbA9Yd1hHdNX7eyN3fOzkYEKEUAPKAcDSD9ueumVx8RXU2i3tXy9e46fPr7HBlH73xIVE2LFXX+ffbAm3mEX+VxrdVERej8sPP12t81JNyvUVZX+QAa3bYWljIu9/M4urJcxON8vHo+XEtWVk46o2h3egYOGRfZCDwvxcfCADzBt6j2CE+87T/dcWPFn8PP/zOj7fT1+Tv7555ovrOVYm7Cx0xgDAKUIlDDXh0iHvTCJ4XgeRlB/qu+NAbaN6huhSC2USS/F9JORV9sGCn1MXDIuNx9DVXXfWpC/prDhj8ASR1zE3vqVooREUoN6VU3fFnTN7TE7aH5cC2ZCDrqkKLdKRq4xkqBMurlZXdFovXQ/7YVKL0LG/0mHzCB0QQoRWCJ+nuIABUFyiDtWoL0ngyvCWXYmMPGG5YP11LvQ7D9OUW7MzBw23PiBBeYAKUIFhgHT81BBCjaZQN30APmVEcToBTB6KjcggnMngBFu2zgs38uPMIcCVCKYI7p8VBMYCABinbZwAfi5BtOJEApAifOk3NePAIU7bKBL54OlnpGlCJYamA8edsQoGiXDdw2j48TmQYBShFMY1yOwQSeSoCiXTbwp1Ln/rYiQCkCW02Ak1laAhTtsoEvrVwWc+KUIlhMEjwrpxGgaJcN3GlPmfMdSoBSBEMD8k0mMCcCFO2ygc/p4fAw8yFAKYL5ZMajMIHhBCjaHWjgIhj/MgPWAGuANTA/DQy3+Md3Bxr446Z8hQnYn4AwG/5hAk4kQNHu/wd4HbjG4K17EAAAAABJRU5ErkJggg==)\n",
        "\n",
        "**💻 Industry Perspective**  \n",
        "This dataset is very small and clean, rarely a case in the industry. When you start working, you'll generally find either a tiny dataset that you need to find a way to make useful or the dataset will be huge but very dirty as well! \n",
        "\n",
        "This example is a good introduction for you to experiment with the modeling phase of the project. Still, the dataset side is not a great representation of industry data you'll encounter in your career."
      ],
      "id": "hJ-KhOG7qFne"
    },
    {
      "cell_type": "markdown",
      "metadata": {
        "id": "thWLJHJDqFnf"
      },
      "source": [
        "### Import Packages\n",
        "\n",
        "For today's lesson we need `pandas` and `sklearn` libraries to support the data loading-preprocessing stage."
      ],
      "id": "thWLJHJDqFnf"
    },
    {
      "cell_type": "code",
      "metadata": {
        "id": "WJSG27WDqFnf"
      },
      "source": [
        "import numpy as np\n",
        "import pandas as pd\n",
        "\n",
        "# Used to normalize dataset \n",
        "from sklearn.preprocessing import MinMaxScaler\n",
        "\n",
        "import tensorflow as tf\n",
        "from tensorflow.keras import Sequential\n",
        "from tensorflow.keras.layers import Dense"
      ],
      "id": "WJSG27WDqFnf",
      "execution_count": 2,
      "outputs": []
    },
    {
      "cell_type": "markdown",
      "metadata": {
        "id": "Qv60P_ohqFng"
      },
      "source": [
        "### **Dataset import**\n",
        "\n",
        "**💯 Exam pointers**\n",
        "\n",
        "You'll work with external libraries such as `tensorflow_datasets (tfds)` at the exam, but you won't be using Pandas. However, my recommendation is to learn to use Pandas because it will come to unlock some job perspectives in the future. I will link free Pandas resources at the bottom of this notebook. \n",
        "\n",
        "**NOTE:** Please follow [this YouTube tutorial](https://www.youtube.com/watch?v=6HFlwqK3oeo) on how to import CSV files into Google Colab if you don't have experience with this"
      ],
      "id": "Qv60P_ohqFng"
    },
    {
      "cell_type": "code",
      "source": [
        "!wget -O salary_dataset.zip https://github.com/AlexanderLavelle/ALWorks/blob/main/TensorFlow%20Dev%20Cert/Luka/2%20-%20Regression/Years%20of%20experience%20and%20Salary%20dataset.zip?raw=true  \n",
        "import zipfile\n",
        "# Unzip the downloaded file\n",
        "zip_ref = zipfile.ZipFile('salary_dataset.zip', \"r\")\n",
        "zip_ref.extractall()\n",
        "zip_ref.close()"
      ],
      "metadata": {
        "colab": {
          "base_uri": "https://localhost:8080/"
        },
        "id": "UvTvtBciE53L",
        "outputId": "60cc2614-5734-492e-bf16-f62cdbc7bc24"
      },
      "id": "UvTvtBciE53L",
      "execution_count": 3,
      "outputs": [
        {
          "output_type": "stream",
          "name": "stdout",
          "text": [
            "--2022-01-06 20:39:42--  https://github.com/AlexanderLavelle/ALWorks/blob/main/TensorFlow%20Dev%20Cert/Luka/2%20-%20Regression/Years%20of%20experience%20and%20Salary%20dataset.zip?raw=true\n",
            "Resolving github.com (github.com)... 192.30.255.112\n",
            "Connecting to github.com (github.com)|192.30.255.112|:443... connected.\n",
            "HTTP request sent, awaiting response... 302 Found\n",
            "Location: https://github.com/AlexanderLavelle/ALWorks/raw/main/TensorFlow%20Dev%20Cert/Luka/2%20-%20Regression/Years%20of%20experience%20and%20Salary%20dataset.zip [following]\n",
            "--2022-01-06 20:39:42--  https://github.com/AlexanderLavelle/ALWorks/raw/main/TensorFlow%20Dev%20Cert/Luka/2%20-%20Regression/Years%20of%20experience%20and%20Salary%20dataset.zip\n",
            "Reusing existing connection to github.com:443.\n",
            "HTTP request sent, awaiting response... 302 Found\n",
            "Location: https://raw.githubusercontent.com/AlexanderLavelle/ALWorks/main/TensorFlow%20Dev%20Cert/Luka/2%20-%20Regression/Years%20of%20experience%20and%20Salary%20dataset.zip [following]\n",
            "--2022-01-06 20:39:42--  https://raw.githubusercontent.com/AlexanderLavelle/ALWorks/main/TensorFlow%20Dev%20Cert/Luka/2%20-%20Regression/Years%20of%20experience%20and%20Salary%20dataset.zip\n",
            "Resolving raw.githubusercontent.com (raw.githubusercontent.com)... 185.199.108.133, 185.199.109.133, 185.199.110.133, ...\n",
            "Connecting to raw.githubusercontent.com (raw.githubusercontent.com)|185.199.108.133|:443... connected.\n",
            "HTTP request sent, awaiting response... 200 OK\n",
            "Length: 378 [application/zip]\n",
            "Saving to: ‘salary_dataset.zip’\n",
            "\n",
            "\rsalary_dataset.zip    0%[                    ]       0  --.-KB/s               \rsalary_dataset.zip  100%[===================>]     378  --.-KB/s    in 0s      \n",
            "\n",
            "2022-01-06 20:39:42 (14.6 MB/s) - ‘salary_dataset.zip’ saved [378/378]\n",
            "\n"
          ]
        }
      ]
    },
    {
      "cell_type": "code",
      "metadata": {
        "id": "FfCnInPOqFnh"
      },
      "source": [
        "data = pd.read_csv(\"Salary_Data.csv\")"
      ],
      "id": "FfCnInPOqFnh",
      "execution_count": 7,
      "outputs": []
    },
    {
      "cell_type": "code",
      "source": [
        "data.shape"
      ],
      "metadata": {
        "colab": {
          "base_uri": "https://localhost:8080/"
        },
        "id": "BhJG9khcH7yc",
        "outputId": "73a12b74-bec8-4fc5-d9be-0ff34f43d96a"
      },
      "id": "BhJG9khcH7yc",
      "execution_count": 9,
      "outputs": [
        {
          "output_type": "execute_result",
          "data": {
            "text/plain": [
              "(30, 2)"
            ]
          },
          "metadata": {},
          "execution_count": 9
        }
      ]
    },
    {
      "cell_type": "code",
      "source": [
        "data = data.values"
      ],
      "metadata": {
        "id": "1slbzDC1IHCx"
      },
      "id": "1slbzDC1IHCx",
      "execution_count": 12,
      "outputs": []
    },
    {
      "cell_type": "markdown",
      "metadata": {
        "id": "iLWXXjA2qFni"
      },
      "source": [
        "### Data preprocessing\n",
        "\n",
        "The only preprocessing step needed is scaling salaries in the dataset.\n",
        "\n",
        "Wait, but why are we scaling this column?\n",
        "Our years' column is on a scale from 1-10 while salaries could go pretty much to millions (if we get info from some IT company khm). To make the job easier for our algorithm, we will scale salaries to scale from 0 to 1 (You could do from 0 to 10 to be on the same scale as our years of experience - try both and see what works better :) ).\n",
        "\n",
        "If you haven't worked with MinMaxScaler before, [here](https://towardsdatascience.com/scale-standardize-or-normalize-with-scikit-learn-6ccc7d176a02#:~:text=Use%20MinMaxScaler%20if%20you%20want,sample%20rows%2C%20not%20feature%20columns.) is a fantastic blog where you can learn more about it and when/why to apply it."
      ],
      "id": "iLWXXjA2qFni"
    },
    {
      "cell_type": "code",
      "metadata": {
        "id": "zT-s9XORqFnj"
      },
      "source": [
        "scaler = MinMaxScaler()\n",
        "features = data[:, 0]\n",
        "targets  = scaler.fit_transform(data[:, 1].reshape(-1, 1))"
      ],
      "id": "zT-s9XORqFnj",
      "execution_count": 13,
      "outputs": []
    },
    {
      "cell_type": "markdown",
      "metadata": {
        "id": "7BTk5mwJqFnl"
      },
      "source": [
        "# Modeling\n",
        "\n"
      ],
      "id": "7BTk5mwJqFnl"
    },
    {
      "cell_type": "markdown",
      "source": [
        "### Defining a model\n",
        "\n",
        "The network I've used for this task is similar to the one we defined in the first lesson. I encourage you to experiment here, add more Dense layers, change activation function, add/decrease units per layer, etc. \n",
        "\n",
        "\n",
        "My experiment here has two Dense layers (input(100) + output_layer(1))"
      ],
      "metadata": {
        "id": "c447hWc_mRTR"
      },
      "id": "c447hWc_mRTR"
    },
    {
      "cell_type": "code",
      "metadata": {
        "id": "xRgg15uHqFnl"
      },
      "source": [
        "model = Sequential([Dense(units=100, activation='relu', input_shape=[1]),\n",
        "                    Dense(units=1)])"
      ],
      "id": "xRgg15uHqFnl",
      "execution_count": 14,
      "outputs": []
    },
    {
      "cell_type": "markdown",
      "metadata": {
        "id": "mYyZHG8tqFnm"
      },
      "source": [
        "### Compiling the model\n",
        "\n",
        "For this experiment we will use a classical optimizer function - `stocastic_gradient_descent` and loss function - `mean_squared_error` (you could try `mean_absolute_error` and check what performs better."
      ],
      "id": "mYyZHG8tqFnm"
    },
    {
      "cell_type": "code",
      "metadata": {
        "id": "5vdnQBy3qFnm"
      },
      "source": [
        "model.compile(optimizer='sgd', loss='mean_squared_error')"
      ],
      "id": "5vdnQBy3qFnm",
      "execution_count": 15,
      "outputs": []
    },
    {
      "cell_type": "markdown",
      "metadata": {
        "id": "IbgrYruHqFnm"
      },
      "source": [
        "### Training\n",
        "\n",
        "Sweet spot that I found for this task was 50 epochs, but you can try to play with this number"
      ],
      "id": "IbgrYruHqFnm"
    },
    {
      "cell_type": "code",
      "metadata": {
        "id": "ysBhC1SqqFnm",
        "colab": {
          "base_uri": "https://localhost:8080/"
        },
        "outputId": "88f2323d-e7f9-4ed6-84d1-29b069b097d5"
      },
      "source": [
        "model.fit(features, targets, epochs=50)"
      ],
      "id": "ysBhC1SqqFnm",
      "execution_count": 16,
      "outputs": [
        {
          "output_type": "stream",
          "name": "stdout",
          "text": [
            "Epoch 1/50\n",
            "1/1 [==============================] - 1s 574ms/step - loss: 0.6007\n",
            "Epoch 2/50\n",
            "1/1 [==============================] - 0s 8ms/step - loss: 0.0203\n",
            "Epoch 3/50\n",
            "1/1 [==============================] - 0s 10ms/step - loss: 0.0101\n",
            "Epoch 4/50\n",
            "1/1 [==============================] - 0s 7ms/step - loss: 0.0098\n",
            "Epoch 5/50\n",
            "1/1 [==============================] - 0s 7ms/step - loss: 0.0097\n",
            "Epoch 6/50\n",
            "1/1 [==============================] - 0s 9ms/step - loss: 0.0096\n",
            "Epoch 7/50\n",
            "1/1 [==============================] - 0s 10ms/step - loss: 0.0096\n",
            "Epoch 8/50\n",
            "1/1 [==============================] - 0s 8ms/step - loss: 0.0095\n",
            "Epoch 9/50\n",
            "1/1 [==============================] - 0s 11ms/step - loss: 0.0094\n",
            "Epoch 10/50\n",
            "1/1 [==============================] - 0s 8ms/step - loss: 0.0093\n",
            "Epoch 11/50\n",
            "1/1 [==============================] - 0s 12ms/step - loss: 0.0093\n",
            "Epoch 12/50\n",
            "1/1 [==============================] - 0s 4ms/step - loss: 0.0092\n",
            "Epoch 13/50\n",
            "1/1 [==============================] - 0s 5ms/step - loss: 0.0091\n",
            "Epoch 14/50\n",
            "1/1 [==============================] - 0s 10ms/step - loss: 0.0091\n",
            "Epoch 15/50\n",
            "1/1 [==============================] - 0s 7ms/step - loss: 0.0090\n",
            "Epoch 16/50\n",
            "1/1 [==============================] - 0s 4ms/step - loss: 0.0089\n",
            "Epoch 17/50\n",
            "1/1 [==============================] - 0s 4ms/step - loss: 0.0088\n",
            "Epoch 18/50\n",
            "1/1 [==============================] - 0s 6ms/step - loss: 0.0088\n",
            "Epoch 19/50\n",
            "1/1 [==============================] - 0s 4ms/step - loss: 0.0087\n",
            "Epoch 20/50\n",
            "1/1 [==============================] - 0s 4ms/step - loss: 0.0087\n",
            "Epoch 21/50\n",
            "1/1 [==============================] - 0s 6ms/step - loss: 0.0086\n",
            "Epoch 22/50\n",
            "1/1 [==============================] - 0s 10ms/step - loss: 0.0085\n",
            "Epoch 23/50\n",
            "1/1 [==============================] - 0s 5ms/step - loss: 0.0085\n",
            "Epoch 24/50\n",
            "1/1 [==============================] - 0s 13ms/step - loss: 0.0084\n",
            "Epoch 25/50\n",
            "1/1 [==============================] - 0s 11ms/step - loss: 0.0083\n",
            "Epoch 26/50\n",
            "1/1 [==============================] - 0s 14ms/step - loss: 0.0083\n",
            "Epoch 27/50\n",
            "1/1 [==============================] - 0s 8ms/step - loss: 0.0082\n",
            "Epoch 28/50\n",
            "1/1 [==============================] - 0s 8ms/step - loss: 0.0082\n",
            "Epoch 29/50\n",
            "1/1 [==============================] - 0s 8ms/step - loss: 0.0081\n",
            "Epoch 30/50\n",
            "1/1 [==============================] - 0s 11ms/step - loss: 0.0081\n",
            "Epoch 31/50\n",
            "1/1 [==============================] - 0s 6ms/step - loss: 0.0080\n",
            "Epoch 32/50\n",
            "1/1 [==============================] - 0s 5ms/step - loss: 0.0080\n",
            "Epoch 33/50\n",
            "1/1 [==============================] - 0s 11ms/step - loss: 0.0079\n",
            "Epoch 34/50\n",
            "1/1 [==============================] - 0s 4ms/step - loss: 0.0079\n",
            "Epoch 35/50\n",
            "1/1 [==============================] - 0s 5ms/step - loss: 0.0078\n",
            "Epoch 36/50\n",
            "1/1 [==============================] - 0s 11ms/step - loss: 0.0078\n",
            "Epoch 37/50\n",
            "1/1 [==============================] - 0s 11ms/step - loss: 0.0077\n",
            "Epoch 38/50\n",
            "1/1 [==============================] - 0s 4ms/step - loss: 0.0077\n",
            "Epoch 39/50\n",
            "1/1 [==============================] - 0s 5ms/step - loss: 0.0076\n",
            "Epoch 40/50\n",
            "1/1 [==============================] - 0s 5ms/step - loss: 0.0076\n",
            "Epoch 41/50\n",
            "1/1 [==============================] - 0s 4ms/step - loss: 0.0075\n",
            "Epoch 42/50\n",
            "1/1 [==============================] - 0s 5ms/step - loss: 0.0075\n",
            "Epoch 43/50\n",
            "1/1 [==============================] - 0s 6ms/step - loss: 0.0074\n",
            "Epoch 44/50\n",
            "1/1 [==============================] - 0s 11ms/step - loss: 0.0074\n",
            "Epoch 45/50\n",
            "1/1 [==============================] - 0s 6ms/step - loss: 0.0073\n",
            "Epoch 46/50\n",
            "1/1 [==============================] - 0s 7ms/step - loss: 0.0073\n",
            "Epoch 47/50\n",
            "1/1 [==============================] - 0s 5ms/step - loss: 0.0072\n",
            "Epoch 48/50\n",
            "1/1 [==============================] - 0s 5ms/step - loss: 0.0072\n",
            "Epoch 49/50\n",
            "1/1 [==============================] - 0s 9ms/step - loss: 0.0072\n",
            "Epoch 50/50\n",
            "1/1 [==============================] - 0s 10ms/step - loss: 0.0071\n"
          ]
        },
        {
          "output_type": "execute_result",
          "data": {
            "text/plain": [
              "<keras.callbacks.History at 0x7fc21361aa90>"
            ]
          },
          "metadata": {},
          "execution_count": 16
        }
      ]
    },
    {
      "cell_type": "markdown",
      "metadata": {
        "id": "uKlvLcNsrOcH"
      },
      "source": [
        "### Predicting\n",
        "\n",
        "Let's predict the new employee with `5.4` years of experience.\n",
        "\n",
        "NOTE: Since we trained the network on scaled targets, we need to use that scaler object to run `inverse_transform` and get a prediction with the scale found in the dataset once we perform the prediction."
      ],
      "id": "uKlvLcNsrOcH"
    },
    {
      "cell_type": "code",
      "source": [
        "print(\"New employee gets salary of:\", scaler.inverse_transform(model.predict([5.4])[0].reshape(-1, 1))[0][0], \"$\")"
      ],
      "metadata": {
        "id": "vvW8ovtOUayI",
        "colab": {
          "base_uri": "https://localhost:8080/"
        },
        "outputId": "093caba6-938a-4cc9-f438-7e1ee0b9448f"
      },
      "id": "vvW8ovtOUayI",
      "execution_count": 17,
      "outputs": [
        {
          "output_type": "stream",
          "name": "stdout",
          "text": [
            "New employee gets salary of: 78701.695 $\n"
          ]
        }
      ]
    },
    {
      "cell_type": "code",
      "source": [
        ""
      ],
      "metadata": {
        "id": "hJa_1JlRKM9t"
      },
      "id": "hJa_1JlRKM9t",
      "execution_count": null,
      "outputs": []
    },
    {
      "cell_type": "code",
      "source": [
        "tf.keras.backend.clear_session()"
      ],
      "metadata": {
        "id": "P0E7gJvHK2Z5"
      },
      "id": "P0E7gJvHK2Z5",
      "execution_count": 44,
      "outputs": []
    },
    {
      "cell_type": "code",
      "source": [
        "model2 = tf.keras.Sequential()\n",
        "model2.add(tf.keras.layers.Dense(64, activation='linear', input_shape=[1,]))\n",
        "model2.add(tf.keras.layers.Dense(64, activation='linear'))\n",
        "model2.add(tf.keras.layers.Dense(1))\n",
        "\n",
        "model2.compile(optimizer='Adam', loss='mse')\n",
        "model2.fit(features, targets, epochs=5)"
      ],
      "metadata": {
        "colab": {
          "base_uri": "https://localhost:8080/"
        },
        "id": "FJKRTSHQKM2l",
        "outputId": "de9fb6c0-5060-4d67-88dd-4d6a5f08299c"
      },
      "id": "FJKRTSHQKM2l",
      "execution_count": 45,
      "outputs": [
        {
          "output_type": "stream",
          "name": "stdout",
          "text": [
            "Epoch 1/5\n",
            "1/1 [==============================] - 0s 388ms/step - loss: 7.6865\n",
            "Epoch 2/5\n",
            "1/1 [==============================] - 0s 8ms/step - loss: 4.3357\n",
            "Epoch 3/5\n",
            "1/1 [==============================] - 0s 6ms/step - loss: 1.9812\n",
            "Epoch 4/5\n",
            "1/1 [==============================] - 0s 7ms/step - loss: 0.5823\n",
            "Epoch 5/5\n",
            "1/1 [==============================] - 0s 5ms/step - loss: 0.0320\n"
          ]
        },
        {
          "output_type": "execute_result",
          "data": {
            "text/plain": [
              "<keras.callbacks.History at 0x7fc20bef8310>"
            ]
          },
          "metadata": {},
          "execution_count": 45
        }
      ]
    },
    {
      "cell_type": "code",
      "source": [
        "from sklearn.linear_model import LinearRegression\n",
        "from sklearn.metrics import mean_squared_error as MSE"
      ],
      "metadata": {
        "id": "nkH7BWTcI7qq"
      },
      "id": "nkH7BWTcI7qq",
      "execution_count": 24,
      "outputs": []
    },
    {
      "cell_type": "code",
      "source": [
        "reg = LinearRegression(n_jobs=-1)\n",
        "reg.fit(features.reshape(-1,1), targets.reshape(-1,1))\n",
        "preds = reg.predict(features.reshape(-1,1))\n",
        "MSE(targets, preds)"
      ],
      "metadata": {
        "colab": {
          "base_uri": "https://localhost:8080/"
        },
        "id": "8i8kAHfkIRcw",
        "outputId": "6c05ea9b-c9a8-40a1-e7d1-a80eac6f81a6"
      },
      "id": "8i8kAHfkIRcw",
      "execution_count": 26,
      "outputs": [
        {
          "output_type": "execute_result",
          "data": {
            "text/plain": [
              "0.004362993548418736"
            ]
          },
          "metadata": {},
          "execution_count": 26
        }
      ]
    },
    {
      "cell_type": "code",
      "source": [
        "print(f\"New employee gets salary of: ${scaler.inverse_transform(reg.predict(np.array(5.4).reshape(-1,1)))[0][0]:,.2f}\")\n"
      ],
      "metadata": {
        "colab": {
          "base_uri": "https://localhost:8080/"
        },
        "id": "PllaWJApIQ9v",
        "outputId": "c9df2fe5-0ff1-4f32-98e5-27373fab2925"
      },
      "id": "PllaWJApIQ9v",
      "execution_count": 39,
      "outputs": [
        {
          "output_type": "stream",
          "name": "stdout",
          "text": [
            "New employee gets salary of: $76,822.00\n"
          ]
        }
      ]
    },
    {
      "cell_type": "markdown",
      "source": [
        "**💯 Exam pointers**\n",
        "\n",
        "At the exam, you'll save your models and send that saved model to google servers, where they will run the prediction step with it and get the final score for that task. That being said, at the exam, you don't have to run these prediction steps themselves! You can send your model to Google multiple times, so don't hesitate to use that!"
      ],
      "metadata": {
        "id": "p69wDJWOUiw1"
      },
      "id": "p69wDJWOUiw1"
    },
    {
      "cell_type": "markdown",
      "metadata": {
        "id": "e1GS2KybWxvW"
      },
      "source": [
        "**📚 Learning resources:**\n",
        "\n",
        "\n",
        "1. Pandas\n",
        "    - https://www.youtube.com/watch?v=ZyhVh-qRZPA&list=PL-osiE80TeTsWmV9i9c58mdDCSskIFdDS\n",
        "\n",
        "2. Some approaches to Hyperparam tunning in practice (Andrew Ng)\n",
        "    - https://www.youtube.com/watch?v=wKkcBPp3F1Y"
      ],
      "id": "e1GS2KybWxvW"
    },
    {
      "cell_type": "markdown",
      "source": [
        "# Lesson check: Where do we stand for the certificate exam?\n",
        "\n",
        "[Full checklist](https://www.tensorflow.org/extras/cert/TF_Certificate_Candidate_Handbook.pdf)\n",
        "\n",
        "✔️ Know how to program in Python, resolve Python issues, and compile and run Python programs in PyCharm.\n",
        "    \n",
        "- https://www.tensorflow.org/extras/cert/Setting_Up_TF_Developer_Certificate_Exam.pdf \n",
        "\n",
        "✔️ Know how to find information about TensorFlow APIs, including how to find \n",
        "guides and API references on tensorflow.org.\n",
        "\n",
        "- https://www.tensorflow.org/api_docs/python/tf/keras/Model\n",
        "\n",
        "✔️ Know how to debug, investigate, and solve error messages from the TensorFlow API.\n",
        "\n",
        "- Follow the trace and messages provided in an error\n",
        "- StackOverFlow\n",
        "\n",
        "✔️ Know how to search beyond tensorflow.org, as and when necessary, to solve your TensorFlow questions.\n",
        "\n",
        "- StackOverFlow\n",
        "\n",
        "✔️ Know how to create ML models using TensorFlow where the model size is reasonable for the\n",
        "problem being solved.\n",
        "\n",
        "❏ Know how to save ML models and check the model file size.\n",
        "\n",
        "- Covered later in the course\n",
        "\n",
        "✔️ Understand the compatibility discrepancies between different versions of TensorFlow.\n",
        "\n",
        "✔️ Use TensorFlow 2.x.\n",
        "\n",
        "✔️ Build, compile and train machine learning (ML) models using TensorFlow.\n",
        "\n",
        "❏ Preprocess data to get it ready for use in a model.\n",
        "\n",
        "- We can select this, howerver there are many ways of doing this, so we will mark this point later in the course\n",
        "\n",
        "✔️ Use models to predict results.\n",
        "\n",
        "✔️ Build sequential models with multiple layers.\n",
        "\n"
      ],
      "metadata": {
        "id": "4_ZDbibJePet"
      },
      "id": "4_ZDbibJePet"
    },
    {
      "cell_type": "code",
      "source": [
        ""
      ],
      "metadata": {
        "id": "2KwegByNpaWX"
      },
      "id": "2KwegByNpaWX",
      "execution_count": null,
      "outputs": []
    }
  ]
}